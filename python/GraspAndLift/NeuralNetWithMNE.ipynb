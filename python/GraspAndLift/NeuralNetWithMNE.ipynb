{
 "cells": [
  {
   "cell_type": "code",
   "execution_count": 85,
   "metadata": {
    "collapsed": false
   },
   "outputs": [
    {
     "name": "stdout",
     "output_type": "stream",
     "text": [
      "Once deleted, variables cannot be recovered. Proceed (y/[n])? y\n"
     ]
    }
   ],
   "source": [
    "%reset"
   ]
  },
  {
   "cell_type": "code",
   "execution_count": 86,
   "metadata": {
    "collapsed": false
   },
   "outputs": [],
   "source": [
    "%matplotlib inline\n",
    "\n",
    "import numpy as np\n",
    "import pandas as pd\n",
    "from mne.io import RawArray\n",
    "from mne.channels import read_montage\n",
    "from mne.epochs import concatenate_epochs\n",
    "from mne import create_info, find_events, Epochs, concatenate_raws, pick_types\n",
    "from mne.decoding import CSP\n",
    "\n",
    "import matplotlib.pyplot as plt\n",
    "\n",
    "from sklearn.linear_model import LogisticRegression\n",
    "from sklearn import svm\n",
    "from sklearn.ensemble import RandomForestClassifier\n",
    "from sklearn.grid_search import GridSearchCV\n",
    "from sklearn.preprocessing import StandardScaler\n",
    "from sklearn.cross_validation import train_test_split\n",
    "from sklearn.metrics import roc_auc_score\n",
    "\n",
    "from glob import glob\n",
    "\n",
    "from scipy.signal import butter, lfilter, convolve, boxcar\n",
    "from joblib import Parallel, delayed\n",
    "\n",
    "import theano\n",
    "from lasagne import layers\n",
    "from lasagne.updates import nesterov_momentum\n",
    "from nolearn.lasagne import NeuralNet\n",
    "from nolearn.lasagne import BatchIterator\n",
    "from theano.tensor.nnet import sigmoid\n",
    "from lasagne.layers import InputLayer, DropoutLayer, DenseLayer,Conv1DLayer, Conv2DLayer, MaxPool1DLayer"
   ]
  },
  {
   "cell_type": "markdown",
   "metadata": {},
   "source": [
    "Create function to generate mne object (http://martinos.org/mne/stable/mne-python.html) from input data.\n",
    "1. read csv as panda data frame.\n",
    "2. extract channel names and recover local configuration (montage) and set channel type to eeg.\n",
    "3. If specified (read_events=True): add events as stim channels values to data.\n",
    "4. Generate meta data (info) for mne object and instanciate object from data and info."
   ]
  },
  {
   "cell_type": "code",
   "execution_count": 87,
   "metadata": {
    "collapsed": true
   },
   "outputs": [],
   "source": [
    "def create_mne_raw_object(fname,read_events=True):\n",
    "    \"\"\"Create a mne raw instance from csv file\"\"\"\n",
    "    # Read EEG file\n",
    "    data = pd.read_csv(fname)\n",
    "\n",
    "    # get chanel names\n",
    "    ch_names = list(data.columns[1:])\n",
    "\n",
    "    # read EEG standard montage from mne\n",
    "    montage = read_montage('standard_1005',ch_names)\n",
    "\n",
    "    ch_type = ['eeg']*len(ch_names)\n",
    "    data = 1e-6*np.array(data[ch_names]).T\n",
    "\n",
    "    if read_events:\n",
    "        # events file\n",
    "        ev_fname = fname.replace('_data','_events')\n",
    "        # read event file\n",
    "        events = pd.read_csv(ev_fname)\n",
    "        events_names = events.columns[1:]\n",
    "        events_data = np.array(events[events_names]).T\n",
    "\n",
    "        # define channel type, the first is EEG, the last 6 are stimulations\n",
    "        ch_type.extend(['stim']*6)\n",
    "        ch_names.extend(events_names)\n",
    "        # concatenate event file and data\n",
    "        data = np.concatenate((data,events_data))\n",
    "\n",
    "    # create and populate MNE info structure\n",
    "    info = create_info(ch_names,sfreq=500.0, ch_types=ch_type, montage=montage)\n",
    "    info['filename'] = fname\n",
    "\n",
    "    # create raw object\n",
    "    raw = RawArray(data,info,verbose=False)\n",
    "\n",
    "    return raw"
   ]
  },
  {
   "cell_type": "markdown",
   "metadata": {},
   "source": [
    "Specify input parameters:\n",
    "1. Number of subjects to predict.\n",
    "2. Filter in frequency domain to retain frequencies of interest (7-30Hz): Butterworth bandpass filter (https://en.wikipedia.org/wiki/Butterworth_filter) to denoise signal.\n",
    "3. Linearly transform data to maximize the variance differences upon stimuli using common spatial pattern (CSP, https://www.youtube.com/watch?v=zsOULC16USU). Very similar to PCA with another rotation to one principal component."
   ]
  },
  {
   "cell_type": "code",
   "execution_count": 88,
   "metadata": {
    "collapsed": true
   },
   "outputs": [],
   "source": [
    "SUBJECTS = range(1,13)\n",
    "\n",
    "# design a butterworth bandpass filter\n",
    "#freqs = [7, 30]\n",
    "FREQS = [6, 30]\n",
    "b,a = butter(5,np.array(FREQS)/250.0,btype='bandpass')\n",
    "\n",
    "# CSP parameters\n",
    "# Number of spatial filter to use\n",
    "NFILTERS = 4\n",
    "\n",
    "# convolution\n",
    "# window for smoothing features\n",
    "NWIN = 250\n",
    "\n",
    "# training subsample\n",
    "SUBSAMPLE = 10\n",
    "\n",
    "\n",
    "\n",
    "# submission file\n",
    "submission_file = 'submission.csv'\n",
    "cols = ['HandStart','FirstDigitTouch',\n",
    "        'BothStartLoadPhase','LiftOff',\n",
    "        'Replace','BothReleased']"
   ]
  },
  {
   "cell_type": "markdown",
   "metadata": {},
   "source": [
    "Read the training data or test data for a given subject. "
   ]
  },
  {
   "cell_type": "code",
   "execution_count": 89,
   "metadata": {
    "collapsed": true
   },
   "outputs": [],
   "source": [
    "def read_training_data(subject, series): \n",
    "    \"\"\"\n",
    "    Reads the training data for a given subject.\n",
    "    subject = subject_index\n",
    "    \"\"\"\n",
    "    print('Reading subject %d data' % (subject))\n",
    "    ################ READ DATA ###############################################\n",
    "    fnames =  glob('input/train/subj%d_series%s_data.csv' % (subject, series))\n",
    "\n",
    "    # read and concatenate all the files\n",
    "    raw = concatenate_raws([create_mne_raw_object(fname) for fname in fnames])\n",
    "    # pick eeg signal\n",
    "    picks = pick_types(raw.info,eeg=True)\n",
    "    \n",
    "    # Filter data for alpha frequency and beta band\n",
    "    # Note that MNE implement a zero phase (filtfilt) filtering not compatible\n",
    "    # with the rule of future data.\n",
    "    # Here we use left filter compatible with this constraint.\n",
    "    # The function parallelized for speeding up the script\n",
    "    raw._data[picks] = np.array(Parallel(n_jobs=-1)(delayed(lfilter)(b,a,raw._data[i]) for i in picks))\n",
    "    print('Reading subject %d data. Done.' % (subject))\n",
    "    return raw\n",
    "\n",
    "def read_test_data(subject): \n",
    "    \"\"\"\n",
    "    Reads the test data for a given subject.\n",
    "    subject = subject_index\n",
    "    \"\"\"\n",
    "    print('Reading subject %d test data' % (subject))\n",
    "    ################ READ DATA ###############################################\n",
    "    # read test data\n",
    "    fnames =  glob('input/test/subj%d_series*_data.csv' % (subject))\n",
    "    raw = concatenate_raws([create_mne_raw_object(fname, read_events=False) for fname in fnames])\n",
    "    picks = pick_types(raw.info,eeg=True)\n",
    "    raw._data[picks] = np.array(Parallel(n_jobs=-1)(delayed(lfilter)(b,a,raw._data[i]) for i in picks))\n",
    "    print('Reading subject %d test data. Done.' % (subject))\n",
    "    return raw\n",
    "\n",
    "def read_test_ids(subject): \n",
    "    \"\"\"\n",
    "    read test ids for subject\n",
    "    \"\"\"\n",
    "    print('Reading subject %d test ids' % (subject))\n",
    "    # read ids\n",
    "    fnames =  glob('input/test/subj%d_series*_data.csv' % (subject))\n",
    "    ids = np.concatenate([np.array(pd.read_csv(fname)['id']) for fname in fnames])\n",
    "    print('Reading subject %d test ids. Done.' % (subject))\n",
    "    return ids"
   ]
  },
  {
   "cell_type": "markdown",
   "metadata": {},
   "source": [
    "Learn and perform CSP filter. "
   ]
  },
  {
   "cell_type": "code",
   "execution_count": 90,
   "metadata": {
    "collapsed": true
   },
   "outputs": [],
   "source": [
    "def learn_csp_filter(raw, stim_channel='Replace'):\n",
    "    \"\"\"\n",
    "    Trains CSP filter on the data. It optimizes the separation of variance between the two epochs 1.5s before\n",
    "    and after the defined stim_channel. \n",
    "    \"\"\"\n",
    "    print('Learning CSP for stim_channel %s' % (stim_channel))\n",
    "    \n",
    "    epochs_tot = []\n",
    "    picks = pick_types(raw.info,eeg=True)\n",
    "    \n",
    "    ################ CSP Filters training #####################################\n",
    "    # get event position corresponding to Replace\n",
    "    events = find_events(raw,stim_channel='Replace', verbose=False)\n",
    "    # epochs signal for 1.5 second before the movement\n",
    "    # add data, events, id, time_start and time_end\n",
    "    epochs = Epochs(raw, events, {'during' : 1}, -2, -0.5, proj=False,\n",
    "                    picks=picks, baseline=None, preload=True,\n",
    "                    add_eeg_ref=False, verbose=False)\n",
    "    epochs_tot.append(epochs)\n",
    "    y = []\n",
    "    y.extend([1]*len(epochs))\n",
    "    # epochs signal for 1.5 second after the movement, this correspond to the\n",
    "    # rest period.\n",
    "    epochs_rest = Epochs(raw, events, {'after' : 1}, 0.5, 2, proj=False,\n",
    "                    picks=picks, baseline=None, preload=True,\n",
    "                    add_eeg_ref=False, verbose=False)\n",
    "    # Workaround to be able to concatenate epochs with MNE\n",
    "    epochs_rest.times = epochs.times\n",
    "\n",
    "    y.extend([-1]*len(epochs_rest))\n",
    "    epochs_tot.append(epochs_rest)\n",
    "\n",
    "    # Concatenate all epochs\n",
    "    epochs = concatenate_epochs(epochs_tot)\n",
    "    \n",
    "    # get data\n",
    "    X = epochs.get_data()\n",
    "    y = np.array(y)\n",
    "\n",
    "    # train CSP\n",
    "    csp = CSP(n_components=NFILTERS, reg='lws')\n",
    "    csp.fit(X,y)\n",
    "    \n",
    "    print('Learning CSP for stim_channel %s. Done.' % (stim_channel))\n",
    "    \n",
    "    return csp \n",
    "\n",
    "def perform_csp_filter(raw, csp):\n",
    "    \"\"\"\n",
    "    Filters the raw data with the specified, trained csp filter.\n",
    "    \"\"\"\n",
    "    print('Filter raw data with csp filter.')\n",
    "    picks = pick_types(raw.info,eeg=True)\n",
    "    feat = np.dot(csp.filters_[0:NFILTERS],raw._data[picks])**2\n",
    "    print('Filter raw data with csp filter. Done.')\n",
    "    return feat\n",
    "\n",
    "def perform_smoothing(feat, NWIN, NFILTERS):\n",
    "    \"\"\"\n",
    "    Smoothes features with a box kernel of size nwin. \n",
    "    \"\"\"\n",
    "    print('Convolve features for smoothing.')\n",
    "    feat_convolved = np.array(Parallel(n_jobs=-1)(delayed(convolve)(feat[i],boxcar(NWIN),'full') for i in range(NFILTERS)))\n",
    "    feat_convolved = np.log(feat_convolved[:,0:feat.shape[1]])\n",
    "    print('Convolve features for smoothing. Done.')\n",
    "    return feat_convolved"
   ]
  },
  {
   "cell_type": "code",
   "execution_count": 91,
   "metadata": {
    "collapsed": false
   },
   "outputs": [],
   "source": [
    "def normalize_train_and_test(raw_train, raw_test): \n",
    "    \n",
    "    #means = np.mean(raw_train._data[:32], axis=1)\n",
    "    #raw_train._data[:32] = np.subtract(raw_train._data[:32].T, means).T\n",
    "    #raw_test._data[:32] = np.subtract(raw_test._data[:32].T, means).T\n",
    "    \n",
    "    #stds = np.std(raw_train._data[:32], axis=1)\n",
    "    #raw_train._data[:32] = np.divide(raw_train._data[:32].T, stds).T\n",
    "    #raw_test._data[:32] = np.divide(raw_test._data[:32].T, stds).T\n",
    "    \n",
    "    scaler = StandardScaler().fit(raw_train._data[:32])\n",
    "    \n",
    "    raw_train._data[:32] = scaler.transform(raw_train._data[:32])\n",
    "    raw_test._data[:32] = scaler.transform(raw_test._data[:32])\n",
    "    \n",
    "    \n",
    "    return(raw_train, raw_test)\n",
    "\n",
    "def get_transformed_data(raw_train, raw_test, class_index):\n",
    "    \"\"\"\n",
    "    Train filter for specific class and transform data. \n",
    "    \"\"\"\n",
    "    csp_filter = learn_csp_filter(raw_train, stim_channel=cols[class_index])\n",
    "    \n",
    "    # smoothing by convolution with a rectangle window\n",
    "    feat_train = perform_csp_filter(raw_train, csp_filter)\n",
    "    feat_train = perform_smoothing(feat_train, NWIN, NFILTERS)\n",
    "\n",
    "    feat_test = perform_csp_filter(raw_test, csp_filter)\n",
    "    feat_test = perform_smoothing(feat_test, NWIN, NFILTERS)\n",
    "    \n",
    "    return(feat_train, feat_test)\n",
    "    \n",
    "def train_scikit_learn(train, train_labels, test, model, params, verbose=True):\n",
    "    \"\"\"\n",
    "    Trains a scikit model for each class\n",
    "    \"\"\"\n",
    "\n",
    "    mod = GridSearchCV(model, params, cv=5, verbose=verbose, n_jobs=1, scoring='roc_auc')\n",
    "    mod.fit(train[:,::SUBSAMPLE].T,train_labels[::SUBSAMPLE])\n",
    "    print(mod.best_score_)\n",
    "    print('Best score %.4e with parameters %s' % (mod.best_score_ ,mod.best_params_) )\n",
    "\n",
    "    return(mod.predict_proba(test.T)[:,1])\n",
    "\n",
    "def train_subject(subject, model, params):\n",
    "    \"\"\"\n",
    "    Train nnet for single subject. \n",
    "    \"\"\"\n",
    "    raw_train = read_training_data(subject)\n",
    "    raw_test = read_test_data(subject)\n",
    "\n",
    "    test_ids = read_test_ids(subject)\n",
    "    train_labels = raw_train._data[32:]\n",
    "#    ids_tot.append(test_ids)\n",
    "    \n",
    "    pred = np.zeros((len(test_ids),6))\n",
    "    \n",
    "    for i in range(0,len(cols)): \n",
    "        print('Train subject %d, class %s' % (subject, cols[i]))\n",
    "        train, test = get_transformed_data(raw_train, raw_test, i)\n",
    "        pred[:,i] = train_scikit_learn(train, train_labels[i,:], test, model, params)\n",
    "    \n",
    "    return(test_ids, pred)\n",
    "\n",
    "def train_all(submission_id='', model=LogisticRegression(), params={'C': [1.0]} ): \n",
    "    \n",
    "    ids_all = []\n",
    "    pred_all = []\n",
    "\n",
    "    for i in SUBJECTS:\n",
    "        test_ids, pred = train_subject(i, model, params)\n",
    "        ids_all.append(test_ids)\n",
    "        pred_all.append(pred)\n",
    "    \n",
    "    # create pandas object for sbmission\n",
    "    submission = pd.DataFrame(index=np.concatenate(ids_all), columns=cols, data=np.concatenate(pred_all))\n",
    "    \n",
    "    # write file\n",
    "    submission.to_csv( (('%s%s') %(submission_id, submission_file)),index_label='id',float_format='%.5f' )"
   ]
  },
  {
   "cell_type": "code",
   "execution_count": 126,
   "metadata": {
    "collapsed": false
   },
   "outputs": [
    {
     "name": "stdout",
     "output_type": "stream",
     "text": [
      "Reading subject 1 data\n",
      "Reading subject 1 data. Done.\n",
      "Reading subject 1 test data\n",
      "Reading subject 1 test data. Done.\n",
      "Reading subject 1 test ids\n",
      "Reading subject 1 test ids. Done.\n",
      "Train subject 1, class HandStart\n",
      "Learning CSP for stim_channel HandStart\n",
      "Learning CSP for stim_channel HandStart. Done.\n",
      "Filter raw data with csp filter.\n",
      "Filter raw data with csp filter. Done.\n",
      "Convolve features for smoothing.\n",
      "Convolve features for smoothing. Done.\n",
      "Filter raw data with csp filter.\n",
      "Filter raw data with csp filter. Done.\n",
      "Convolve features for smoothing.\n",
      "Convolve features for smoothing. Done.\n",
      "Fitting 5 folds for each of 1 candidates, totalling 5 fits"
     ]
    },
    {
     "name": "stderr",
     "output_type": "stream",
     "text": [
      "[Parallel(n_jobs=1)]: Done   1 jobs       | elapsed:    0.5s\n",
      "[Parallel(n_jobs=1)]: Done   5 out of   5 | elapsed:    2.1s finished\n"
     ]
    },
    {
     "name": "stdout",
     "output_type": "stream",
     "text": [
      "\n",
      "0.615682691844\n",
      "Best score 6.1568e-01 with parameters {'C': 1.0}\n",
      "Train subject 1, class FirstDigitTouch\n",
      "Learning CSP for stim_channel FirstDigitTouch\n",
      "Learning CSP for stim_channel FirstDigitTouch. Done.\n",
      "Filter raw data with csp filter.\n",
      "Filter raw data with csp filter. Done.\n",
      "Convolve features for smoothing.\n",
      "Convolve features for smoothing. Done.\n",
      "Filter raw data with csp filter.\n",
      "Filter raw data with csp filter. Done.\n",
      "Convolve features for smoothing.\n"
     ]
    },
    {
     "name": "stderr",
     "output_type": "stream",
     "text": [
      "[Parallel(n_jobs=1)]: Done   1 jobs       | elapsed:    0.5s\n",
      "[Parallel(n_jobs=1)]: Done   5 out of   5 | elapsed:    2.1s finished\n"
     ]
    },
    {
     "name": "stdout",
     "output_type": "stream",
     "text": [
      "Convolve features for smoothing. Done.\n",
      "Fitting 5 folds for each of 1 candidates, totalling 5 fits\n",
      "0.718260366507\n",
      "Best score 7.1826e-01 with parameters {'C': 1.0}\n",
      "Train subject 1, class BothStartLoadPhase\n",
      "Learning CSP for stim_channel BothStartLoadPhase\n",
      "Learning CSP for stim_channel BothStartLoadPhase. Done.\n",
      "Filter raw data with csp filter.\n",
      "Filter raw data with csp filter. Done.\n",
      "Convolve features for smoothing.\n",
      "Convolve features for smoothing. Done.\n",
      "Filter raw data with csp filter.\n",
      "Filter raw data with csp filter. Done.\n",
      "Convolve features for smoothing.\n"
     ]
    },
    {
     "name": "stderr",
     "output_type": "stream",
     "text": [
      "[Parallel(n_jobs=1)]: Done   1 jobs       | elapsed:    0.5s\n",
      "[Parallel(n_jobs=1)]: Done   5 out of   5 | elapsed:    2.2s finished\n"
     ]
    },
    {
     "name": "stdout",
     "output_type": "stream",
     "text": [
      "Convolve features for smoothing. Done.\n",
      "Fitting 5 folds for each of 1 candidates, totalling 5 fits\n",
      "0.717694476262\n",
      "Best score 7.1769e-01 with parameters {'C': 1.0}\n",
      "Train subject 1, class LiftOff\n",
      "Learning CSP for stim_channel LiftOff\n",
      "Learning CSP for stim_channel LiftOff. Done.\n",
      "Filter raw data with csp filter.\n",
      "Filter raw data with csp filter. Done.\n",
      "Convolve features for smoothing.\n",
      "Convolve features for smoothing. Done.\n",
      "Filter raw data with csp filter.\n",
      "Filter raw data with csp filter. Done.\n",
      "Convolve features for smoothing.\n"
     ]
    },
    {
     "name": "stderr",
     "output_type": "stream",
     "text": [
      "[Parallel(n_jobs=1)]: Done   1 jobs       | elapsed:    0.5s\n",
      "[Parallel(n_jobs=1)]: Done   5 out of   5 | elapsed:    2.4s finished\n"
     ]
    },
    {
     "name": "stdout",
     "output_type": "stream",
     "text": [
      "Convolve features for smoothing. Done.\n",
      "Fitting 5 folds for each of 1 candidates, totalling 5 fits\n",
      "0.708797727079\n",
      "Best score 7.0880e-01 with parameters {'C': 1.0}\n",
      "Train subject 1, class Replace\n",
      "Learning CSP for stim_channel Replace\n",
      "Learning CSP for stim_channel Replace. Done.\n",
      "Filter raw data with csp filter.\n",
      "Filter raw data with csp filter. Done.\n",
      "Convolve features for smoothing.\n",
      "Convolve features for smoothing. Done.\n",
      "Filter raw data with csp filter.\n",
      "Filter raw data with csp filter. Done.\n",
      "Convolve features for smoothing.\n"
     ]
    },
    {
     "name": "stderr",
     "output_type": "stream",
     "text": [
      "[Parallel(n_jobs=1)]: Done   1 jobs       | elapsed:    0.5s\n",
      "[Parallel(n_jobs=1)]: Done   5 out of   5 | elapsed:    2.0s finished\n"
     ]
    },
    {
     "name": "stdout",
     "output_type": "stream",
     "text": [
      "Convolve features for smoothing. Done.\n",
      "Fitting 5 folds for each of 1 candidates, totalling 5 fits\n",
      "0.619572388541\n",
      "Best score 6.1957e-01 with parameters {'C': 1.0}\n",
      "Train subject 1, class BothReleased\n",
      "Learning CSP for stim_channel BothReleased\n",
      "Learning CSP for stim_channel BothReleased. Done.\n",
      "Filter raw data with csp filter.\n",
      "Filter raw data with csp filter. Done.\n",
      "Convolve features for smoothing.\n",
      "Convolve features for smoothing. Done.\n",
      "Filter raw data with csp filter.\n",
      "Filter raw data with csp filter. Done.\n",
      "Convolve features for smoothing.\n"
     ]
    },
    {
     "name": "stderr",
     "output_type": "stream",
     "text": [
      "[Parallel(n_jobs=1)]: Done   1 jobs       | elapsed:    0.6s\n",
      "[Parallel(n_jobs=1)]: Done   5 out of   5 | elapsed:    2.7s finished\n"
     ]
    },
    {
     "name": "stdout",
     "output_type": "stream",
     "text": [
      "Convolve features for smoothing. Done.\n",
      "Fitting 5 folds for each of 1 candidates, totalling 5 fits\n",
      "0.661430783688\n",
      "Best score 6.6143e-01 with parameters {'C': 1.0}\n",
      "Reading subject 2 data\n",
      "Reading subject 2 data. Done.\n",
      "Reading subject 2 test data\n",
      "Reading subject 2 test data. Done.\n",
      "Reading subject 2 test ids\n",
      "Reading subject 2 test ids. Done.\n",
      "Train subject 2, class HandStart\n",
      "Learning CSP for stim_channel HandStart\n",
      "Learning CSP for stim_channel HandStart. Done.\n",
      "Filter raw data with csp filter.\n",
      "Filter raw data with csp filter. Done.\n",
      "Convolve features for smoothing.\n",
      "Convolve features for smoothing. Done.\n",
      "Filter raw data with csp filter.\n",
      "Filter raw data with csp filter. Done.\n",
      "Convolve features for smoothing.\n",
      "Convolve features for smoothing. Done.\n",
      "Fitting 5 folds for each of 1 candidates, totalling 5 fits"
     ]
    },
    {
     "name": "stderr",
     "output_type": "stream",
     "text": [
      "[Parallel(n_jobs=1)]: Done   1 jobs       | elapsed:    0.6s\n",
      "[Parallel(n_jobs=1)]: Done   5 out of   5 | elapsed:    2.3s finished\n"
     ]
    },
    {
     "name": "stdout",
     "output_type": "stream",
     "text": [
      "\n",
      "0.630395235905\n",
      "Best score 6.3040e-01 with parameters {'C': 1.0}\n",
      "Train subject 2, class FirstDigitTouch\n",
      "Learning CSP for stim_channel FirstDigitTouch\n",
      "Learning CSP for stim_channel FirstDigitTouch. Done.\n",
      "Filter raw data with csp filter.\n",
      "Filter raw data with csp filter. Done.\n",
      "Convolve features for smoothing.\n",
      "Convolve features for smoothing. Done.\n",
      "Filter raw data with csp filter.\n",
      "Filter raw data with csp filter. Done.\n",
      "Convolve features for smoothing.\n",
      "Convolve features for smoothing. Done.\n",
      "Fitting 5 folds for each of 1 candidates, totalling 5 fits"
     ]
    },
    {
     "name": "stderr",
     "output_type": "stream",
     "text": [
      "[Parallel(n_jobs=1)]: Done   1 jobs       | elapsed:    0.7s\n",
      "[Parallel(n_jobs=1)]: Done   5 out of   5 | elapsed:    3.2s finished\n"
     ]
    },
    {
     "name": "stdout",
     "output_type": "stream",
     "text": [
      "\n",
      "0.783640209268\n",
      "Best score 7.8364e-01 with parameters {'C': 1.0}\n",
      "Train subject 2, class BothStartLoadPhase\n",
      "Learning CSP for stim_channel BothStartLoadPhase\n",
      "Learning CSP for stim_channel BothStartLoadPhase. Done.\n",
      "Filter raw data with csp filter.\n",
      "Filter raw data with csp filter. Done.\n",
      "Convolve features for smoothing.\n",
      "Convolve features for smoothing. Done.\n",
      "Filter raw data with csp filter.\n",
      "Filter raw data with csp filter. Done.\n",
      "Convolve features for smoothing.\n",
      "Convolve features for smoothing. Done.\n",
      "Fitting 5 folds for each of 1 candidates, totalling 5 fits"
     ]
    },
    {
     "name": "stderr",
     "output_type": "stream",
     "text": [
      "[Parallel(n_jobs=1)]: Done   1 jobs       | elapsed:    0.7s\n",
      "[Parallel(n_jobs=1)]: Done   5 out of   5 | elapsed:    3.7s finished\n"
     ]
    },
    {
     "name": "stdout",
     "output_type": "stream",
     "text": [
      "\n",
      "0.782260403971\n",
      "Best score 7.8226e-01 with parameters {'C': 1.0}\n",
      "Train subject 2, class LiftOff\n",
      "Learning CSP for stim_channel LiftOff\n",
      "Learning CSP for stim_channel LiftOff. Done.\n",
      "Filter raw data with csp filter.\n",
      "Filter raw data with csp filter. Done.\n",
      "Convolve features for smoothing.\n",
      "Convolve features for smoothing. Done.\n",
      "Filter raw data with csp filter.\n",
      "Filter raw data with csp filter. Done.\n",
      "Convolve features for smoothing.\n",
      "Convolve features for smoothing. Done.\n",
      "Fitting 5 folds for each of 1 candidates, totalling 5 fits"
     ]
    },
    {
     "name": "stderr",
     "output_type": "stream",
     "text": [
      "[Parallel(n_jobs=1)]: Done   1 jobs       | elapsed:    0.6s\n",
      "[Parallel(n_jobs=1)]: Done   5 out of   5 | elapsed:    2.9s finished\n"
     ]
    },
    {
     "name": "stdout",
     "output_type": "stream",
     "text": [
      "\n",
      "0.736605936913\n",
      "Best score 7.3661e-01 with parameters {'C': 1.0}\n",
      "Train subject 2, class Replace\n",
      "Learning CSP for stim_channel Replace\n",
      "Learning CSP for stim_channel Replace. Done.\n",
      "Filter raw data with csp filter.\n",
      "Filter raw data with csp filter. Done.\n",
      "Convolve features for smoothing.\n",
      "Convolve features for smoothing. Done.\n",
      "Filter raw data with csp filter.\n",
      "Filter raw data with csp filter. Done.\n",
      "Convolve features for smoothing.\n",
      "Convolve features for smoothing. Done.\n",
      "Fitting 5 folds for each of 1 candidates, totalling 5 fits"
     ]
    },
    {
     "name": "stderr",
     "output_type": "stream",
     "text": [
      "[Parallel(n_jobs=1)]: Done   1 jobs       | elapsed:    0.8s\n",
      "[Parallel(n_jobs=1)]: Done   5 out of   5 | elapsed:    3.1s finished\n"
     ]
    },
    {
     "name": "stdout",
     "output_type": "stream",
     "text": [
      "\n",
      "0.721209233069\n",
      "Best score 7.2121e-01 with parameters {'C': 1.0}\n",
      "Train subject 2, class BothReleased\n",
      "Learning CSP for stim_channel BothReleased\n",
      "Learning CSP for stim_channel BothReleased. Done.\n",
      "Filter raw data with csp filter.\n",
      "Filter raw data with csp filter. Done.\n",
      "Convolve features for smoothing.\n",
      "Convolve features for smoothing. Done.\n",
      "Filter raw data with csp filter.\n",
      "Filter raw data with csp filter. Done.\n",
      "Convolve features for smoothing.\n",
      "Convolve features for smoothing. Done.\n",
      "Fitting 5 folds for each of 1 candidates, totalling 5 fits"
     ]
    },
    {
     "name": "stderr",
     "output_type": "stream",
     "text": [
      "[Parallel(n_jobs=1)]: Done   1 jobs       | elapsed:    0.7s\n",
      "[Parallel(n_jobs=1)]: Done   5 out of   5 | elapsed:    3.3s finished\n"
     ]
    },
    {
     "name": "stdout",
     "output_type": "stream",
     "text": [
      "\n",
      "0.756271917519\n",
      "Best score 7.5627e-01 with parameters {'C': 1.0}\n",
      "Reading subject 3 data\n",
      "Reading subject 3 data. Done.\n",
      "Reading subject 3 test data\n",
      "Reading subject 3 test data. Done.\n",
      "Reading subject 3 test ids\n",
      "Reading subject 3 test ids. Done.\n",
      "Train subject 3, class HandStart\n",
      "Learning CSP for stim_channel HandStart\n",
      "Learning CSP for stim_channel HandStart. Done.\n",
      "Filter raw data with csp filter.\n",
      "Filter raw data with csp filter. Done.\n",
      "Convolve features for smoothing.\n",
      "Convolve features for smoothing. Done.\n",
      "Filter raw data with csp filter.\n",
      "Filter raw data with csp filter. Done.\n",
      "Convolve features for smoothing.\n"
     ]
    },
    {
     "name": "stderr",
     "output_type": "stream",
     "text": [
      "[Parallel(n_jobs=1)]: Done   1 jobs       | elapsed:    0.3s\n",
      "[Parallel(n_jobs=1)]: Done   5 out of   5 | elapsed:    1.8s finished\n"
     ]
    },
    {
     "name": "stdout",
     "output_type": "stream",
     "text": [
      "Convolve features for smoothing. Done.\n",
      "Fitting 5 folds for each of 1 candidates, totalling 5 fits\n",
      "0.587732045421\n",
      "Best score 5.8773e-01 with parameters {'C': 1.0}\n",
      "Train subject 3, class FirstDigitTouch\n",
      "Learning CSP for stim_channel FirstDigitTouch\n",
      "Learning CSP for stim_channel FirstDigitTouch. Done.\n",
      "Filter raw data with csp filter.\n",
      "Filter raw data with csp filter. Done.\n",
      "Convolve features for smoothing.\n",
      "Convolve features for smoothing. Done.\n",
      "Filter raw data with csp filter.\n",
      "Filter raw data with csp filter. Done.\n",
      "Convolve features for smoothing.\n"
     ]
    },
    {
     "name": "stderr",
     "output_type": "stream",
     "text": [
      "[Parallel(n_jobs=1)]: Done   1 jobs       | elapsed:    0.6s\n",
      "[Parallel(n_jobs=1)]: Done   5 out of   5 | elapsed:    2.4s finished\n"
     ]
    },
    {
     "name": "stdout",
     "output_type": "stream",
     "text": [
      "Convolve features for smoothing. Done.\n",
      "Fitting 5 folds for each of 1 candidates, totalling 5 fits\n",
      "0.720637375356\n",
      "Best score 7.2064e-01 with parameters {'C': 1.0}\n",
      "Train subject 3, class BothStartLoadPhase\n",
      "Learning CSP for stim_channel BothStartLoadPhase\n",
      "Learning CSP for stim_channel BothStartLoadPhase. Done.\n",
      "Filter raw data with csp filter.\n",
      "Filter raw data with csp filter. Done.\n",
      "Convolve features for smoothing.\n",
      "Convolve features for smoothing. Done.\n",
      "Filter raw data with csp filter.\n",
      "Filter raw data with csp filter. Done.\n",
      "Convolve features for smoothing.\n"
     ]
    },
    {
     "name": "stderr",
     "output_type": "stream",
     "text": [
      "[Parallel(n_jobs=1)]: Done   1 jobs       | elapsed:    0.4s\n",
      "[Parallel(n_jobs=1)]: Done   5 out of   5 | elapsed:    2.1s finished\n"
     ]
    },
    {
     "name": "stdout",
     "output_type": "stream",
     "text": [
      "Convolve features for smoothing. Done.\n",
      "Fitting 5 folds for each of 1 candidates, totalling 5 fits\n",
      "0.739559144688\n",
      "Best score 7.3956e-01 with parameters {'C': 1.0}\n",
      "Train subject 3, class LiftOff\n",
      "Learning CSP for stim_channel LiftOff\n",
      "Learning CSP for stim_channel LiftOff. Done.\n",
      "Filter raw data with csp filter.\n",
      "Filter raw data with csp filter. Done.\n",
      "Convolve features for smoothing.\n",
      "Convolve features for smoothing. Done.\n",
      "Filter raw data with csp filter.\n",
      "Filter raw data with csp filter. Done.\n",
      "Convolve features for smoothing.\n"
     ]
    },
    {
     "name": "stderr",
     "output_type": "stream",
     "text": [
      "[Parallel(n_jobs=1)]: Done   1 jobs       | elapsed:    0.7s\n",
      "[Parallel(n_jobs=1)]: Done   5 out of   5 | elapsed:    2.7s finished\n"
     ]
    },
    {
     "name": "stdout",
     "output_type": "stream",
     "text": [
      "Convolve features for smoothing. Done.\n",
      "Fitting 5 folds for each of 1 candidates, totalling 5 fits\n",
      "0.761569912696\n",
      "Best score 7.6157e-01 with parameters {'C': 1.0}\n",
      "Train subject 3, class Replace\n",
      "Learning CSP for stim_channel Replace\n",
      "Learning CSP for stim_channel Replace. Done.\n",
      "Filter raw data with csp filter.\n",
      "Filter raw data with csp filter. Done.\n",
      "Convolve features for smoothing.\n",
      "Convolve features for smoothing. Done.\n",
      "Filter raw data with csp filter.\n",
      "Filter raw data with csp filter. Done.\n",
      "Convolve features for smoothing.\n"
     ]
    },
    {
     "name": "stderr",
     "output_type": "stream",
     "text": [
      "[Parallel(n_jobs=1)]: Done   1 jobs       | elapsed:    0.5s\n",
      "[Parallel(n_jobs=1)]: Done   5 out of   5 | elapsed:    2.1s finished\n"
     ]
    },
    {
     "name": "stdout",
     "output_type": "stream",
     "text": [
      "Convolve features for smoothing. Done.\n",
      "Fitting 5 folds for each of 1 candidates, totalling 5 fits\n",
      "0.674766547598\n",
      "Best score 6.7477e-01 with parameters {'C': 1.0}\n",
      "Train subject 3, class BothReleased\n",
      "Learning CSP for stim_channel BothReleased\n",
      "Learning CSP for stim_channel BothReleased. Done.\n",
      "Filter raw data with csp filter.\n",
      "Filter raw data with csp filter. Done.\n",
      "Convolve features for smoothing.\n",
      "Convolve features for smoothing. Done.\n",
      "Filter raw data with csp filter.\n",
      "Filter raw data with csp filter. Done.\n",
      "Convolve features for smoothing.\n"
     ]
    },
    {
     "name": "stderr",
     "output_type": "stream",
     "text": [
      "[Parallel(n_jobs=1)]: Done   1 jobs       | elapsed:    0.5s\n",
      "[Parallel(n_jobs=1)]: Done   5 out of   5 | elapsed:    2.6s finished\n"
     ]
    },
    {
     "name": "stdout",
     "output_type": "stream",
     "text": [
      "Convolve features for smoothing. Done.\n",
      "Fitting 5 folds for each of 1 candidates, totalling 5 fits\n",
      "0.637460631646\n",
      "Best score 6.3746e-01 with parameters {'C': 1.0}\n",
      "Reading subject 4 data\n",
      "Reading subject 4 data. Done.\n",
      "Reading subject 4 test data\n",
      "Reading subject 4 test data. Done.\n",
      "Reading subject 4 test ids\n",
      "Reading subject 4 test ids. Done.\n",
      "Train subject 4, class HandStart\n",
      "Learning CSP for stim_channel HandStart\n",
      "Learning CSP for stim_channel HandStart. Done.\n",
      "Filter raw data with csp filter.\n",
      "Filter raw data with csp filter. Done.\n",
      "Convolve features for smoothing.\n",
      "Convolve features for smoothing. Done.\n",
      "Filter raw data with csp filter.\n",
      "Filter raw data with csp filter. Done.\n",
      "Convolve features for smoothing.\n"
     ]
    },
    {
     "name": "stderr",
     "output_type": "stream",
     "text": [
      "[Parallel(n_jobs=1)]: Done   1 jobs       | elapsed:    0.2s\n",
      "[Parallel(n_jobs=1)]: Done   5 out of   5 | elapsed:    1.5s finished\n"
     ]
    },
    {
     "name": "stdout",
     "output_type": "stream",
     "text": [
      "Convolve features for smoothing. Done.\n",
      "Fitting 5 folds for each of 1 candidates, totalling 5 fits\n",
      "0.66665622692\n",
      "Best score 6.6666e-01 with parameters {'C': 1.0}\n",
      "Train subject 4, class FirstDigitTouch\n",
      "Learning CSP for stim_channel FirstDigitTouch\n",
      "Learning CSP for stim_channel FirstDigitTouch. Done.\n",
      "Filter raw data with csp filter.\n",
      "Filter raw data with csp filter. Done.\n",
      "Convolve features for smoothing.\n",
      "Convolve features for smoothing. Done.\n",
      "Filter raw data with csp filter.\n",
      "Filter raw data with csp filter. Done.\n",
      "Convolve features for smoothing.\n"
     ]
    },
    {
     "name": "stderr",
     "output_type": "stream",
     "text": [
      "[Parallel(n_jobs=1)]: Done   1 jobs       | elapsed:    0.5s\n",
      "[Parallel(n_jobs=1)]: Done   5 out of   5 | elapsed:    2.8s finished\n"
     ]
    },
    {
     "name": "stdout",
     "output_type": "stream",
     "text": [
      "Convolve features for smoothing. Done.\n",
      "Fitting 5 folds for each of 1 candidates, totalling 5 fits\n",
      "0.763068372997\n",
      "Best score 7.6307e-01 with parameters {'C': 1.0}\n",
      "Train subject 4, class BothStartLoadPhase\n",
      "Learning CSP for stim_channel BothStartLoadPhase\n",
      "Learning CSP for stim_channel BothStartLoadPhase. Done.\n",
      "Filter raw data with csp filter.\n",
      "Filter raw data with csp filter. Done.\n",
      "Convolve features for smoothing.\n",
      "Convolve features for smoothing. Done.\n",
      "Filter raw data with csp filter.\n",
      "Filter raw data with csp filter. Done.\n",
      "Convolve features for smoothing.\n"
     ]
    },
    {
     "name": "stderr",
     "output_type": "stream",
     "text": [
      "[Parallel(n_jobs=1)]: Done   1 jobs       | elapsed:    0.4s\n",
      "[Parallel(n_jobs=1)]: Done   5 out of   5 | elapsed:    2.5s finished\n"
     ]
    },
    {
     "name": "stdout",
     "output_type": "stream",
     "text": [
      "Convolve features for smoothing. Done.\n",
      "Fitting 5 folds for each of 1 candidates, totalling 5 fits\n",
      "0.782678727564\n",
      "Best score 7.8268e-01 with parameters {'C': 1.0}\n",
      "Train subject 4, class LiftOff\n",
      "Learning CSP for stim_channel LiftOff\n",
      "Learning CSP for stim_channel LiftOff. Done.\n",
      "Filter raw data with csp filter.\n",
      "Filter raw data with csp filter. Done.\n",
      "Convolve features for smoothing.\n",
      "Convolve features for smoothing. Done.\n",
      "Filter raw data with csp filter.\n",
      "Filter raw data with csp filter. Done.\n",
      "Convolve features for smoothing.\n"
     ]
    },
    {
     "name": "stderr",
     "output_type": "stream",
     "text": [
      "[Parallel(n_jobs=1)]: Done   1 jobs       | elapsed:    0.6s\n",
      "[Parallel(n_jobs=1)]: Done   5 out of   5 | elapsed:    2.4s finished\n"
     ]
    },
    {
     "name": "stdout",
     "output_type": "stream",
     "text": [
      "Convolve features for smoothing. Done.\n",
      "Fitting 5 folds for each of 1 candidates, totalling 5 fits\n",
      "0.823587422685\n",
      "Best score 8.2359e-01 with parameters {'C': 1.0}\n",
      "Train subject 4, class Replace\n",
      "Learning CSP for stim_channel Replace\n",
      "Learning CSP for stim_channel Replace. Done.\n",
      "Filter raw data with csp filter.\n",
      "Filter raw data with csp filter. Done.\n",
      "Convolve features for smoothing.\n",
      "Convolve features for smoothing. Done.\n",
      "Filter raw data with csp filter.\n",
      "Filter raw data with csp filter. Done.\n",
      "Convolve features for smoothing.\n"
     ]
    },
    {
     "name": "stderr",
     "output_type": "stream",
     "text": [
      "[Parallel(n_jobs=1)]: Done   1 jobs       | elapsed:    0.5s\n",
      "[Parallel(n_jobs=1)]: Done   5 out of   5 | elapsed:    2.3s finished\n"
     ]
    },
    {
     "name": "stdout",
     "output_type": "stream",
     "text": [
      "Convolve features for smoothing. Done.\n",
      "Fitting 5 folds for each of 1 candidates, totalling 5 fits\n",
      "0.605486285707\n",
      "Best score 6.0549e-01 with parameters {'C': 1.0}\n",
      "Train subject 4, class BothReleased\n",
      "Learning CSP for stim_channel BothReleased\n",
      "Learning CSP for stim_channel BothReleased. Done.\n",
      "Filter raw data with csp filter.\n",
      "Filter raw data with csp filter. Done.\n",
      "Convolve features for smoothing.\n",
      "Convolve features for smoothing. Done.\n",
      "Filter raw data with csp filter.\n",
      "Filter raw data with csp filter. Done.\n",
      "Convolve features for smoothing.\n"
     ]
    },
    {
     "name": "stderr",
     "output_type": "stream",
     "text": [
      "[Parallel(n_jobs=1)]: Done   1 jobs       | elapsed:    0.5s\n",
      "[Parallel(n_jobs=1)]: Done   5 out of   5 | elapsed:    2.3s finished\n"
     ]
    },
    {
     "name": "stdout",
     "output_type": "stream",
     "text": [
      "Convolve features for smoothing. Done.\n",
      "Fitting 5 folds for each of 1 candidates, totalling 5 fits\n",
      "0.667633511994\n",
      "Best score 6.6763e-01 with parameters {'C': 1.0}\n",
      "Reading subject 5 data\n",
      "Reading subject 5 data. Done.\n",
      "Reading subject 5 test data\n",
      "Reading subject 5 test data. Done.\n",
      "Reading subject 5 test ids\n",
      "Reading subject 5 test ids. Done.\n",
      "Train subject 5, class HandStart\n",
      "Learning CSP for stim_channel HandStart\n",
      "Learning CSP for stim_channel HandStart. Done.\n",
      "Filter raw data with csp filter.\n",
      "Filter raw data with csp filter. Done.\n",
      "Convolve features for smoothing.\n",
      "Convolve features for smoothing. Done.\n",
      "Filter raw data with csp filter.\n",
      "Filter raw data with csp filter. Done.\n",
      "Convolve features for smoothing.\n"
     ]
    },
    {
     "name": "stderr",
     "output_type": "stream",
     "text": [
      "[Parallel(n_jobs=1)]: Done   1 jobs       | elapsed:    0.4s\n",
      "[Parallel(n_jobs=1)]: Done   5 out of   5 | elapsed:    2.1s finished\n"
     ]
    },
    {
     "name": "stdout",
     "output_type": "stream",
     "text": [
      "Convolve features for smoothing. Done.\n",
      "Fitting 5 folds for each of 1 candidates, totalling 5 fits\n",
      "0.675112012169\n",
      "Best score 6.7511e-01 with parameters {'C': 1.0}\n",
      "Train subject 5, class FirstDigitTouch\n",
      "Learning CSP for stim_channel FirstDigitTouch\n",
      "Learning CSP for stim_channel FirstDigitTouch. Done.\n",
      "Filter raw data with csp filter.\n",
      "Filter raw data with csp filter. Done.\n",
      "Convolve features for smoothing.\n",
      "Convolve features for smoothing. Done.\n",
      "Filter raw data with csp filter.\n",
      "Filter raw data with csp filter. Done.\n",
      "Convolve features for smoothing.\n"
     ]
    },
    {
     "name": "stderr",
     "output_type": "stream",
     "text": [
      "[Parallel(n_jobs=1)]: Done   1 jobs       | elapsed:    0.6s\n",
      "[Parallel(n_jobs=1)]: Done   5 out of   5 | elapsed:    3.0s finished\n"
     ]
    },
    {
     "name": "stdout",
     "output_type": "stream",
     "text": [
      "Convolve features for smoothing. Done.\n",
      "Fitting 5 folds for each of 1 candidates, totalling 5 fits\n",
      "0.71605425077\n",
      "Best score 7.1605e-01 with parameters {'C': 1.0}\n",
      "Train subject 5, class BothStartLoadPhase\n",
      "Learning CSP for stim_channel BothStartLoadPhase\n",
      "Learning CSP for stim_channel BothStartLoadPhase. Done.\n",
      "Filter raw data with csp filter.\n",
      "Filter raw data with csp filter. Done.\n",
      "Convolve features for smoothing.\n",
      "Convolve features for smoothing. Done.\n",
      "Filter raw data with csp filter.\n",
      "Filter raw data with csp filter. Done.\n",
      "Convolve features for smoothing.\n",
      "Convolve features for smoothing. Done.\n",
      "Fitting 5 folds for each of 1 candidates, totalling 5 fits"
     ]
    },
    {
     "name": "stderr",
     "output_type": "stream",
     "text": [
      "[Parallel(n_jobs=1)]: Done   1 jobs       | elapsed:    0.6s\n",
      "[Parallel(n_jobs=1)]: Done   5 out of   5 | elapsed:    3.0s finished\n"
     ]
    },
    {
     "name": "stdout",
     "output_type": "stream",
     "text": [
      "\n",
      "0.68622465063\n",
      "Best score 6.8622e-01 with parameters {'C': 1.0}\n",
      "Train subject 5, class LiftOff\n",
      "Learning CSP for stim_channel LiftOff\n",
      "Learning CSP for stim_channel LiftOff. Done.\n",
      "Filter raw data with csp filter.\n",
      "Filter raw data with csp filter. Done.\n",
      "Convolve features for smoothing.\n",
      "Convolve features for smoothing. Done.\n",
      "Filter raw data with csp filter.\n",
      "Filter raw data with csp filter. Done.\n",
      "Convolve features for smoothing.\n"
     ]
    },
    {
     "name": "stderr",
     "output_type": "stream",
     "text": [
      "[Parallel(n_jobs=1)]: Done   1 jobs       | elapsed:    0.6s\n",
      "[Parallel(n_jobs=1)]: Done   5 out of   5 | elapsed:    3.0s finished\n"
     ]
    },
    {
     "name": "stdout",
     "output_type": "stream",
     "text": [
      "Convolve features for smoothing. Done.\n",
      "Fitting 5 folds for each of 1 candidates, totalling 5 fits\n",
      "0.617948076855\n",
      "Best score 6.1795e-01 with parameters {'C': 1.0}\n",
      "Train subject 5, class Replace\n",
      "Learning CSP for stim_channel Replace\n",
      "Learning CSP for stim_channel Replace. Done.\n",
      "Filter raw data with csp filter.\n",
      "Filter raw data with csp filter. Done.\n",
      "Convolve features for smoothing.\n",
      "Convolve features for smoothing. Done.\n",
      "Filter raw data with csp filter.\n",
      "Filter raw data with csp filter. Done.\n",
      "Convolve features for smoothing.\n",
      "Convolve features for smoothing. Done.\n",
      "Fitting 5 folds for each of 1 candidates, totalling 5 fits"
     ]
    },
    {
     "name": "stderr",
     "output_type": "stream",
     "text": [
      "[Parallel(n_jobs=1)]: Done   1 jobs       | elapsed:    0.6s\n",
      "[Parallel(n_jobs=1)]: Done   5 out of   5 | elapsed:    2.7s finished\n"
     ]
    },
    {
     "name": "stdout",
     "output_type": "stream",
     "text": [
      "\n",
      "0.698547473415\n",
      "Best score 6.9855e-01 with parameters {'C': 1.0}\n",
      "Train subject 5, class BothReleased\n",
      "Learning CSP for stim_channel BothReleased\n",
      "Learning CSP for stim_channel BothReleased. Done.\n",
      "Filter raw data with csp filter.\n",
      "Filter raw data with csp filter. Done.\n",
      "Convolve features for smoothing.\n",
      "Convolve features for smoothing. Done.\n",
      "Filter raw data with csp filter.\n",
      "Filter raw data with csp filter. Done.\n",
      "Convolve features for smoothing.\n"
     ]
    },
    {
     "name": "stderr",
     "output_type": "stream",
     "text": [
      "[Parallel(n_jobs=1)]: Done   1 jobs       | elapsed:    0.6s\n",
      "[Parallel(n_jobs=1)]: Done   5 out of   5 | elapsed:    3.0s finished\n"
     ]
    },
    {
     "name": "stdout",
     "output_type": "stream",
     "text": [
      "Convolve features for smoothing. Done.\n",
      "Fitting 5 folds for each of 1 candidates, totalling 5 fits\n",
      "0.659433357802\n",
      "Best score 6.5943e-01 with parameters {'C': 1.0}\n",
      "Reading subject 6 data\n",
      "Reading subject 6 data. Done.\n",
      "Reading subject 6 test data\n",
      "Reading subject 6 test data. Done.\n",
      "Reading subject 6 test ids\n",
      "Reading subject 6 test ids. Done.\n",
      "Train subject 6, class HandStart\n",
      "Learning CSP for stim_channel HandStart\n",
      "Learning CSP for stim_channel HandStart. Done.\n",
      "Filter raw data with csp filter.\n",
      "Filter raw data with csp filter. Done.\n",
      "Convolve features for smoothing.\n",
      "Convolve features for smoothing. Done.\n",
      "Filter raw data with csp filter.\n",
      "Filter raw data with csp filter. Done.\n",
      "Convolve features for smoothing.\n",
      "Convolve features for smoothing. Done.\n",
      "Fitting 5 folds for each of 1 candidates, totalling 5 fits"
     ]
    },
    {
     "name": "stderr",
     "output_type": "stream",
     "text": [
      "[Parallel(n_jobs=1)]: Done   1 jobs       | elapsed:    0.6s\n",
      "[Parallel(n_jobs=1)]: Done   5 out of   5 | elapsed:    2.7s finished\n"
     ]
    },
    {
     "name": "stdout",
     "output_type": "stream",
     "text": [
      "\n",
      "0.59790161594\n",
      "Best score 5.9790e-01 with parameters {'C': 1.0}\n",
      "Train subject 6, class FirstDigitTouch\n",
      "Learning CSP for stim_channel FirstDigitTouch\n",
      "Learning CSP for stim_channel FirstDigitTouch. Done.\n",
      "Filter raw data with csp filter.\n",
      "Filter raw data with csp filter. Done.\n",
      "Convolve features for smoothing.\n",
      "Convolve features for smoothing. Done.\n",
      "Filter raw data with csp filter.\n",
      "Filter raw data with csp filter. Done.\n",
      "Convolve features for smoothing.\n",
      "Convolve features for smoothing. Done.\n",
      "Fitting 5 folds for each of 1 candidates, totalling 5 fits"
     ]
    },
    {
     "name": "stderr",
     "output_type": "stream",
     "text": [
      "[Parallel(n_jobs=1)]: Done   1 jobs       | elapsed:    0.4s\n",
      "[Parallel(n_jobs=1)]: Done   5 out of   5 | elapsed:    1.7s finished\n"
     ]
    },
    {
     "name": "stdout",
     "output_type": "stream",
     "text": [
      "\n",
      "0.596060040611\n",
      "Best score 5.9606e-01 with parameters {'C': 1.0}\n",
      "Train subject 6, class BothStartLoadPhase\n",
      "Learning CSP for stim_channel BothStartLoadPhase\n",
      "Learning CSP for stim_channel BothStartLoadPhase. Done.\n",
      "Filter raw data with csp filter.\n",
      "Filter raw data with csp filter. Done.\n",
      "Convolve features for smoothing.\n",
      "Convolve features for smoothing. Done.\n",
      "Filter raw data with csp filter.\n",
      "Filter raw data with csp filter. Done.\n",
      "Convolve features for smoothing.\n"
     ]
    },
    {
     "name": "stderr",
     "output_type": "stream",
     "text": [
      "[Parallel(n_jobs=1)]: Done   1 jobs       | elapsed:    0.5s\n",
      "[Parallel(n_jobs=1)]: Done   5 out of   5 | elapsed:    2.0s finished\n"
     ]
    },
    {
     "name": "stdout",
     "output_type": "stream",
     "text": [
      "Convolve features for smoothing. Done.\n",
      "Fitting 5 folds for each of 1 candidates, totalling 5 fits\n",
      "0.699043012294\n",
      "Best score 6.9904e-01 with parameters {'C': 1.0}\n",
      "Train subject 6, class LiftOff\n",
      "Learning CSP for stim_channel LiftOff\n",
      "Learning CSP for stim_channel LiftOff. Done.\n",
      "Filter raw data with csp filter.\n",
      "Filter raw data with csp filter. Done.\n",
      "Convolve features for smoothing.\n",
      "Convolve features for smoothing. Done.\n",
      "Filter raw data with csp filter.\n",
      "Filter raw data with csp filter. Done.\n",
      "Convolve features for smoothing.\n",
      "Convolve features for smoothing. Done.\n",
      "Fitting 5 folds for each of 1 candidates, totalling 5 fits"
     ]
    },
    {
     "name": "stderr",
     "output_type": "stream",
     "text": [
      "[Parallel(n_jobs=1)]: Done   1 jobs       | elapsed:    0.6s\n",
      "[Parallel(n_jobs=1)]: Done   5 out of   5 | elapsed:    2.1s finished\n"
     ]
    },
    {
     "name": "stdout",
     "output_type": "stream",
     "text": [
      "\n",
      "0.548130009375\n",
      "Best score 5.4813e-01 with parameters {'C': 1.0}\n",
      "Train subject 6, class Replace\n",
      "Learning CSP for stim_channel Replace\n",
      "Learning CSP for stim_channel Replace. Done.\n",
      "Filter raw data with csp filter.\n",
      "Filter raw data with csp filter. Done.\n",
      "Convolve features for smoothing.\n",
      "Convolve features for smoothing. Done.\n",
      "Filter raw data with csp filter.\n",
      "Filter raw data with csp filter. Done.\n",
      "Convolve features for smoothing.\n",
      "Convolve features for smoothing. Done.\n",
      "Fitting 5 folds for each of 1 candidates, totalling 5 fits"
     ]
    },
    {
     "name": "stderr",
     "output_type": "stream",
     "text": [
      "[Parallel(n_jobs=1)]: Done   1 jobs       | elapsed:    0.6s\n",
      "[Parallel(n_jobs=1)]: Done   5 out of   5 | elapsed:    2.6s finished\n"
     ]
    },
    {
     "name": "stdout",
     "output_type": "stream",
     "text": [
      "\n",
      "0.662517327891\n",
      "Best score 6.6252e-01 with parameters {'C': 1.0}\n",
      "Train subject 6, class BothReleased\n",
      "Learning CSP for stim_channel BothReleased\n",
      "Learning CSP for stim_channel BothReleased. Done.\n",
      "Filter raw data with csp filter.\n",
      "Filter raw data with csp filter. Done.\n",
      "Convolve features for smoothing.\n",
      "Convolve features for smoothing. Done.\n",
      "Filter raw data with csp filter.\n",
      "Filter raw data with csp filter. Done.\n",
      "Convolve features for smoothing.\n",
      "Convolve features for smoothing. Done.\n",
      "Fitting 5 folds for each of 1 candidates, totalling 5 fits"
     ]
    },
    {
     "name": "stderr",
     "output_type": "stream",
     "text": [
      "[Parallel(n_jobs=1)]: Done   1 jobs       | elapsed:    0.5s\n",
      "[Parallel(n_jobs=1)]: Done   5 out of   5 | elapsed:    2.6s finished\n"
     ]
    },
    {
     "name": "stdout",
     "output_type": "stream",
     "text": [
      "\n",
      "0.650771966053\n",
      "Best score 6.5077e-01 with parameters {'C': 1.0}\n",
      "Reading subject 7 data\n",
      "Reading subject 7 data. Done.\n",
      "Reading subject 7 test data\n",
      "Reading subject 7 test data. Done.\n",
      "Reading subject 7 test ids\n",
      "Reading subject 7 test ids. Done.\n",
      "Train subject 7, class HandStart\n",
      "Learning CSP for stim_channel HandStart\n",
      "Learning CSP for stim_channel HandStart. Done.\n",
      "Filter raw data with csp filter.\n",
      "Filter raw data with csp filter. Done.\n",
      "Convolve features for smoothing.\n",
      "Convolve features for smoothing. Done.\n",
      "Filter raw data with csp filter.\n",
      "Filter raw data with csp filter. Done.\n",
      "Convolve features for smoothing.\n",
      "Convolve features for smoothing. Done.\n",
      "Fitting 5 folds for each of 1 candidates, totalling 5 fits"
     ]
    },
    {
     "name": "stderr",
     "output_type": "stream",
     "text": [
      "[Parallel(n_jobs=1)]: Done   1 jobs       | elapsed:    0.4s\n",
      "[Parallel(n_jobs=1)]: Done   5 out of   5 | elapsed:    1.9s finished\n"
     ]
    },
    {
     "name": "stdout",
     "output_type": "stream",
     "text": [
      "\n",
      "0.562882691573\n",
      "Best score 5.6288e-01 with parameters {'C': 1.0}\n",
      "Train subject 7, class FirstDigitTouch\n",
      "Learning CSP for stim_channel FirstDigitTouch\n",
      "Learning CSP for stim_channel FirstDigitTouch. Done.\n",
      "Filter raw data with csp filter.\n",
      "Filter raw data with csp filter. Done.\n",
      "Convolve features for smoothing.\n",
      "Convolve features for smoothing. Done.\n",
      "Filter raw data with csp filter.\n",
      "Filter raw data with csp filter. Done.\n",
      "Convolve features for smoothing.\n",
      "Convolve features for smoothing. Done.\n",
      "Fitting 5 folds for each of 1 candidates, totalling 5 fits"
     ]
    },
    {
     "name": "stderr",
     "output_type": "stream",
     "text": [
      "[Parallel(n_jobs=1)]: Done   1 jobs       | elapsed:    0.7s\n",
      "[Parallel(n_jobs=1)]: Done   5 out of   5 | elapsed:    3.6s finished\n"
     ]
    },
    {
     "name": "stdout",
     "output_type": "stream",
     "text": [
      "\n",
      "0.810262156532\n",
      "Best score 8.1026e-01 with parameters {'C': 1.0}\n",
      "Train subject 7, class BothStartLoadPhase\n",
      "Learning CSP for stim_channel BothStartLoadPhase\n",
      "Learning CSP for stim_channel BothStartLoadPhase. Done.\n",
      "Filter raw data with csp filter.\n",
      "Filter raw data with csp filter. Done.\n",
      "Convolve features for smoothing.\n",
      "Convolve features for smoothing. Done.\n",
      "Filter raw data with csp filter.\n",
      "Filter raw data with csp filter. Done.\n",
      "Convolve features for smoothing.\n"
     ]
    },
    {
     "name": "stderr",
     "output_type": "stream",
     "text": [
      "[Parallel(n_jobs=1)]: Done   1 jobs       | elapsed:    0.5s\n",
      "[Parallel(n_jobs=1)]: Done   5 out of   5 | elapsed:    2.9s finished\n"
     ]
    },
    {
     "name": "stdout",
     "output_type": "stream",
     "text": [
      "Convolve features for smoothing. Done.\n",
      "Fitting 5 folds for each of 1 candidates, totalling 5 fits\n",
      "0.851335187509\n",
      "Best score 8.5134e-01 with parameters {'C': 1.0}\n",
      "Train subject 7, class LiftOff\n",
      "Learning CSP for stim_channel LiftOff\n",
      "Learning CSP for stim_channel LiftOff. Done.\n",
      "Filter raw data with csp filter.\n",
      "Filter raw data with csp filter. Done.\n",
      "Convolve features for smoothing.\n",
      "Convolve features for smoothing. Done.\n",
      "Filter raw data with csp filter.\n",
      "Filter raw data with csp filter. Done.\n",
      "Convolve features for smoothing.\n",
      "Convolve features for smoothing. Done.\n",
      "Fitting 5 folds for each of 1 candidates, totalling 5 fits"
     ]
    },
    {
     "name": "stderr",
     "output_type": "stream",
     "text": [
      "[Parallel(n_jobs=1)]: Done   1 jobs       | elapsed:    0.7s\n",
      "[Parallel(n_jobs=1)]: Done   5 out of   5 | elapsed:    3.0s finished\n"
     ]
    },
    {
     "name": "stdout",
     "output_type": "stream",
     "text": [
      "\n",
      "0.859105508225\n",
      "Best score 8.5911e-01 with parameters {'C': 1.0}\n",
      "Train subject 7, class Replace\n",
      "Learning CSP for stim_channel Replace\n",
      "Learning CSP for stim_channel Replace. Done.\n",
      "Filter raw data with csp filter.\n",
      "Filter raw data with csp filter. Done.\n",
      "Convolve features for smoothing.\n",
      "Convolve features for smoothing. Done.\n",
      "Filter raw data with csp filter.\n",
      "Filter raw data with csp filter. Done.\n",
      "Convolve features for smoothing.\n"
     ]
    },
    {
     "name": "stderr",
     "output_type": "stream",
     "text": [
      "[Parallel(n_jobs=1)]: Done   1 jobs       | elapsed:    0.7s\n",
      "[Parallel(n_jobs=1)]: Done   5 out of   5 | elapsed:    3.0s finished\n"
     ]
    },
    {
     "name": "stdout",
     "output_type": "stream",
     "text": [
      "Convolve features for smoothing. Done.\n",
      "Fitting 5 folds for each of 1 candidates, totalling 5 fits\n",
      "0.773876066532\n",
      "Best score 7.7388e-01 with parameters {'C': 1.0}\n",
      "Train subject 7, class BothReleased\n",
      "Learning CSP for stim_channel BothReleased\n",
      "Learning CSP for stim_channel BothReleased. Done.\n",
      "Filter raw data with csp filter.\n",
      "Filter raw data with csp filter. Done.\n",
      "Convolve features for smoothing.\n",
      "Convolve features for smoothing. Done.\n",
      "Filter raw data with csp filter.\n",
      "Filter raw data with csp filter. Done.\n",
      "Convolve features for smoothing.\n"
     ]
    },
    {
     "name": "stderr",
     "output_type": "stream",
     "text": [
      "[Parallel(n_jobs=1)]: Done   1 jobs       | elapsed:    0.7s\n",
      "[Parallel(n_jobs=1)]: Done   5 out of   5 | elapsed:    3.6s finished\n"
     ]
    },
    {
     "name": "stdout",
     "output_type": "stream",
     "text": [
      "Convolve features for smoothing. Done.\n",
      "Fitting 5 folds for each of 1 candidates, totalling 5 fits\n",
      "0.789570478848\n",
      "Best score 7.8957e-01 with parameters {'C': 1.0}\n",
      "Reading subject 8 data\n",
      "Reading subject 8 data. Done.\n",
      "Reading subject 8 test data\n",
      "Reading subject 8 test data. Done.\n",
      "Reading subject 8 test ids\n",
      "Reading subject 8 test ids. Done.\n",
      "Train subject 8, class HandStart\n",
      "Learning CSP for stim_channel HandStart\n",
      "Learning CSP for stim_channel HandStart. Done.\n",
      "Filter raw data with csp filter.\n",
      "Filter raw data with csp filter. Done.\n",
      "Convolve features for smoothing.\n",
      "Convolve features for smoothing. Done.\n",
      "Filter raw data with csp filter.\n",
      "Filter raw data with csp filter. Done.\n",
      "Convolve features for smoothing.\n"
     ]
    },
    {
     "name": "stderr",
     "output_type": "stream",
     "text": [
      "[Parallel(n_jobs=1)]: Done   1 jobs       | elapsed:    0.5s\n",
      "[Parallel(n_jobs=1)]: Done   5 out of   5 | elapsed:    2.4s finished\n"
     ]
    },
    {
     "name": "stdout",
     "output_type": "stream",
     "text": [
      "Convolve features for smoothing. Done.\n",
      "Fitting 5 folds for each of 1 candidates, totalling 5 fits\n",
      "0.720483906134\n",
      "Best score 7.2048e-01 with parameters {'C': 1.0}\n",
      "Train subject 8, class FirstDigitTouch\n",
      "Learning CSP for stim_channel FirstDigitTouch\n",
      "Learning CSP for stim_channel FirstDigitTouch. Done.\n",
      "Filter raw data with csp filter.\n",
      "Filter raw data with csp filter. Done.\n",
      "Convolve features for smoothing.\n",
      "Convolve features for smoothing. Done.\n",
      "Filter raw data with csp filter.\n",
      "Filter raw data with csp filter. Done.\n",
      "Convolve features for smoothing.\n"
     ]
    },
    {
     "name": "stderr",
     "output_type": "stream",
     "text": [
      "[Parallel(n_jobs=1)]: Done   1 jobs       | elapsed:    0.5s\n",
      "[Parallel(n_jobs=1)]: Done   5 out of   5 | elapsed:    2.3s finished\n"
     ]
    },
    {
     "name": "stdout",
     "output_type": "stream",
     "text": [
      "Convolve features for smoothing. Done.\n",
      "Fitting 5 folds for each of 1 candidates, totalling 5 fits\n",
      "0.751775164953\n",
      "Best score 7.5178e-01 with parameters {'C': 1.0}\n",
      "Train subject 8, class BothStartLoadPhase\n",
      "Learning CSP for stim_channel BothStartLoadPhase\n",
      "Learning CSP for stim_channel BothStartLoadPhase. Done.\n",
      "Filter raw data with csp filter.\n",
      "Filter raw data with csp filter. Done.\n",
      "Convolve features for smoothing.\n",
      "Convolve features for smoothing. Done.\n",
      "Filter raw data with csp filter.\n",
      "Filter raw data with csp filter. Done.\n",
      "Convolve features for smoothing.\n"
     ]
    },
    {
     "name": "stderr",
     "output_type": "stream",
     "text": [
      "[Parallel(n_jobs=1)]: Done   1 jobs       | elapsed:    0.5s\n",
      "[Parallel(n_jobs=1)]: Done   5 out of   5 | elapsed:    2.3s finished\n"
     ]
    },
    {
     "name": "stdout",
     "output_type": "stream",
     "text": [
      "Convolve features for smoothing. Done.\n",
      "Fitting 5 folds for each of 1 candidates, totalling 5 fits\n",
      "0.815690066142\n",
      "Best score 8.1569e-01 with parameters {'C': 1.0}\n",
      "Train subject 8, class LiftOff\n",
      "Learning CSP for stim_channel LiftOff\n",
      "Learning CSP for stim_channel LiftOff. Done.\n",
      "Filter raw data with csp filter.\n",
      "Filter raw data with csp filter. Done.\n",
      "Convolve features for smoothing.\n",
      "Convolve features for smoothing. Done.\n",
      "Filter raw data with csp filter.\n",
      "Filter raw data with csp filter. Done.\n",
      "Convolve features for smoothing.\n"
     ]
    },
    {
     "name": "stderr",
     "output_type": "stream",
     "text": [
      "[Parallel(n_jobs=1)]: Done   1 jobs       | elapsed:    0.5s\n",
      "[Parallel(n_jobs=1)]: Done   5 out of   5 | elapsed:    2.2s finished\n"
     ]
    },
    {
     "name": "stdout",
     "output_type": "stream",
     "text": [
      "Convolve features for smoothing. Done.\n",
      "Fitting 5 folds for each of 1 candidates, totalling 5 fits\n",
      "0.891656511368\n",
      "Best score 8.9166e-01 with parameters {'C': 1.0}\n",
      "Train subject 8, class Replace\n",
      "Learning CSP for stim_channel Replace\n",
      "Learning CSP for stim_channel Replace. Done.\n",
      "Filter raw data with csp filter.\n",
      "Filter raw data with csp filter. Done.\n",
      "Convolve features for smoothing.\n",
      "Convolve features for smoothing. Done.\n",
      "Filter raw data with csp filter.\n",
      "Filter raw data with csp filter. Done.\n",
      "Convolve features for smoothing.\n"
     ]
    },
    {
     "name": "stderr",
     "output_type": "stream",
     "text": [
      "[Parallel(n_jobs=1)]: Done   1 jobs       | elapsed:    0.5s\n",
      "[Parallel(n_jobs=1)]: Done   5 out of   5 | elapsed:    2.4s finished\n"
     ]
    },
    {
     "name": "stdout",
     "output_type": "stream",
     "text": [
      "Convolve features for smoothing. Done.\n",
      "Fitting 5 folds for each of 1 candidates, totalling 5 fits\n",
      "0.742814389285\n",
      "Best score 7.4281e-01 with parameters {'C': 1.0}\n",
      "Train subject 8, class BothReleased\n",
      "Learning CSP for stim_channel BothReleased\n",
      "Learning CSP for stim_channel BothReleased. Done.\n",
      "Filter raw data with csp filter.\n",
      "Filter raw data with csp filter. Done.\n",
      "Convolve features for smoothing.\n",
      "Convolve features for smoothing. Done.\n",
      "Filter raw data with csp filter.\n",
      "Filter raw data with csp filter. Done.\n",
      "Convolve features for smoothing.\n"
     ]
    },
    {
     "name": "stderr",
     "output_type": "stream",
     "text": [
      "[Parallel(n_jobs=1)]: Done   1 jobs       | elapsed:    0.5s\n",
      "[Parallel(n_jobs=1)]: Done   5 out of   5 | elapsed:    2.5s finished\n"
     ]
    },
    {
     "name": "stdout",
     "output_type": "stream",
     "text": [
      "Convolve features for smoothing. Done.\n",
      "Fitting 5 folds for each of 1 candidates, totalling 5 fits\n",
      "0.783810712504\n",
      "Best score 7.8381e-01 with parameters {'C': 1.0}\n",
      "Reading subject 9 data\n",
      "Reading subject 9 data. Done.\n",
      "Reading subject 9 test data\n",
      "Reading subject 9 test data. Done.\n",
      "Reading subject 9 test ids\n",
      "Reading subject 9 test ids. Done.\n",
      "Train subject 9, class HandStart\n",
      "Learning CSP for stim_channel HandStart\n",
      "Learning CSP for stim_channel HandStart. Done.\n",
      "Filter raw data with csp filter.\n",
      "Filter raw data with csp filter. Done.\n",
      "Convolve features for smoothing.\n",
      "Convolve features for smoothing. Done.\n",
      "Filter raw data with csp filter.\n",
      "Filter raw data with csp filter. Done.\n",
      "Convolve features for smoothing.\n"
     ]
    },
    {
     "name": "stderr",
     "output_type": "stream",
     "text": [
      "[Parallel(n_jobs=1)]: Done   1 jobs       | elapsed:    0.4s\n",
      "[Parallel(n_jobs=1)]: Done   5 out of   5 | elapsed:    1.8s finished\n"
     ]
    },
    {
     "name": "stdout",
     "output_type": "stream",
     "text": [
      "Convolve features for smoothing. Done.\n",
      "Fitting 5 folds for each of 1 candidates, totalling 5 fits\n",
      "0.598440357536\n",
      "Best score 5.9844e-01 with parameters {'C': 1.0}\n",
      "Train subject 9, class FirstDigitTouch\n",
      "Learning CSP for stim_channel FirstDigitTouch\n",
      "Learning CSP for stim_channel FirstDigitTouch. Done.\n",
      "Filter raw data with csp filter.\n",
      "Filter raw data with csp filter. Done.\n",
      "Convolve features for smoothing.\n",
      "Convolve features for smoothing. Done.\n",
      "Filter raw data with csp filter.\n",
      "Filter raw data with csp filter. Done.\n",
      "Convolve features for smoothing.\n"
     ]
    },
    {
     "name": "stderr",
     "output_type": "stream",
     "text": [
      "[Parallel(n_jobs=1)]: Done   1 jobs       | elapsed:    0.4s\n",
      "[Parallel(n_jobs=1)]: Done   5 out of   5 | elapsed:    2.4s finished\n"
     ]
    },
    {
     "name": "stdout",
     "output_type": "stream",
     "text": [
      "Convolve features for smoothing. Done.\n",
      "Fitting 5 folds for each of 1 candidates, totalling 5 fits\n",
      "0.58748378435\n",
      "Best score 5.8748e-01 with parameters {'C': 1.0}\n",
      "Train subject 9, class BothStartLoadPhase\n",
      "Learning CSP for stim_channel BothStartLoadPhase\n",
      "Learning CSP for stim_channel BothStartLoadPhase. Done.\n",
      "Filter raw data with csp filter.\n",
      "Filter raw data with csp filter. Done.\n",
      "Convolve features for smoothing.\n",
      "Convolve features for smoothing. Done.\n",
      "Filter raw data with csp filter.\n",
      "Filter raw data with csp filter. Done.\n",
      "Convolve features for smoothing.\n"
     ]
    },
    {
     "name": "stderr",
     "output_type": "stream",
     "text": [
      "[Parallel(n_jobs=1)]: Done   1 jobs       | elapsed:    0.4s\n",
      "[Parallel(n_jobs=1)]: Done   5 out of   5 | elapsed:    2.3s finished\n"
     ]
    },
    {
     "name": "stdout",
     "output_type": "stream",
     "text": [
      "Convolve features for smoothing. Done.\n",
      "Fitting 5 folds for each of 1 candidates, totalling 5 fits\n",
      "0.689182527329\n",
      "Best score 6.8918e-01 with parameters {'C': 1.0}\n",
      "Train subject 9, class LiftOff\n",
      "Learning CSP for stim_channel LiftOff\n",
      "Learning CSP for stim_channel LiftOff. Done.\n",
      "Filter raw data with csp filter.\n",
      "Filter raw data with csp filter. Done.\n",
      "Convolve features for smoothing.\n",
      "Convolve features for smoothing. Done.\n",
      "Filter raw data with csp filter.\n",
      "Filter raw data with csp filter. Done.\n",
      "Convolve features for smoothing.\n"
     ]
    },
    {
     "name": "stderr",
     "output_type": "stream",
     "text": [
      "[Parallel(n_jobs=1)]: Done   1 jobs       | elapsed:    0.4s\n",
      "[Parallel(n_jobs=1)]: Done   5 out of   5 | elapsed:    1.6s finished\n"
     ]
    },
    {
     "name": "stdout",
     "output_type": "stream",
     "text": [
      "Convolve features for smoothing. Done.\n",
      "Fitting 5 folds for each of 1 candidates, totalling 5 fits\n",
      "0.657732821787\n",
      "Best score 6.5773e-01 with parameters {'C': 1.0}\n",
      "Train subject 9, class Replace\n",
      "Learning CSP for stim_channel Replace\n",
      "Learning CSP for stim_channel Replace. Done.\n",
      "Filter raw data with csp filter.\n",
      "Filter raw data with csp filter. Done.\n",
      "Convolve features for smoothing.\n",
      "Convolve features for smoothing. Done.\n",
      "Filter raw data with csp filter.\n",
      "Filter raw data with csp filter. Done.\n",
      "Convolve features for smoothing.\n"
     ]
    },
    {
     "name": "stderr",
     "output_type": "stream",
     "text": [
      "[Parallel(n_jobs=1)]: Done   1 jobs       | elapsed:    0.4s\n",
      "[Parallel(n_jobs=1)]: Done   5 out of   5 | elapsed:    2.3s finished\n"
     ]
    },
    {
     "name": "stdout",
     "output_type": "stream",
     "text": [
      "Convolve features for smoothing. Done.\n",
      "Fitting 5 folds for each of 1 candidates, totalling 5 fits\n",
      "0.626073700882\n",
      "Best score 6.2607e-01 with parameters {'C': 1.0}\n",
      "Train subject 9, class BothReleased\n",
      "Learning CSP for stim_channel BothReleased\n",
      "Learning CSP for stim_channel BothReleased. Done.\n",
      "Filter raw data with csp filter.\n",
      "Filter raw data with csp filter. Done.\n",
      "Convolve features for smoothing.\n",
      "Convolve features for smoothing. Done.\n",
      "Filter raw data with csp filter.\n",
      "Filter raw data with csp filter. Done.\n",
      "Convolve features for smoothing.\n"
     ]
    },
    {
     "name": "stderr",
     "output_type": "stream",
     "text": [
      "[Parallel(n_jobs=1)]: Done   1 jobs       | elapsed:    0.4s\n",
      "[Parallel(n_jobs=1)]: Done   5 out of   5 | elapsed:    2.1s finished\n"
     ]
    },
    {
     "name": "stdout",
     "output_type": "stream",
     "text": [
      "Convolve features for smoothing. Done.\n",
      "Fitting 5 folds for each of 1 candidates, totalling 5 fits\n",
      "0.544994611471\n",
      "Best score 5.4499e-01 with parameters {'C': 1.0}\n",
      "Reading subject 10 data\n",
      "Reading subject 10 data. Done.\n",
      "Reading subject 10 test data\n",
      "Reading subject 10 test data. Done.\n",
      "Reading subject 10 test ids\n",
      "Reading subject 10 test ids. Done.\n",
      "Train subject 10, class HandStart\n",
      "Learning CSP for stim_channel HandStart\n",
      "Learning CSP for stim_channel HandStart. Done.\n",
      "Filter raw data with csp filter.\n",
      "Filter raw data with csp filter. Done.\n",
      "Convolve features for smoothing.\n",
      "Convolve features for smoothing. Done.\n",
      "Filter raw data with csp filter.\n",
      "Filter raw data with csp filter. Done.\n",
      "Convolve features for smoothing.\n"
     ]
    },
    {
     "name": "stderr",
     "output_type": "stream",
     "text": [
      "[Parallel(n_jobs=1)]: Done   1 jobs       | elapsed:    0.4s\n",
      "[Parallel(n_jobs=1)]: Done   5 out of   5 | elapsed:    2.0s finished\n"
     ]
    },
    {
     "name": "stdout",
     "output_type": "stream",
     "text": [
      "Convolve features for smoothing. Done.\n",
      "Fitting 5 folds for each of 1 candidates, totalling 5 fits\n",
      "0.621945750569\n",
      "Best score 6.2195e-01 with parameters {'C': 1.0}\n",
      "Train subject 10, class FirstDigitTouch\n",
      "Learning CSP for stim_channel FirstDigitTouch\n",
      "Learning CSP for stim_channel FirstDigitTouch. Done.\n",
      "Filter raw data with csp filter.\n",
      "Filter raw data with csp filter. Done.\n",
      "Convolve features for smoothing.\n",
      "Convolve features for smoothing. Done.\n",
      "Filter raw data with csp filter.\n",
      "Filter raw data with csp filter. Done.\n",
      "Convolve features for smoothing.\n",
      "Convolve features for smoothing. Done.\n",
      "Fitting 5 folds for each of 1 candidates, totalling 5 fits"
     ]
    },
    {
     "name": "stderr",
     "output_type": "stream",
     "text": [
      "[Parallel(n_jobs=1)]: Done   1 jobs       | elapsed:    0.6s\n",
      "[Parallel(n_jobs=1)]: Done   5 out of   5 | elapsed:    3.6s finished\n"
     ]
    },
    {
     "name": "stdout",
     "output_type": "stream",
     "text": [
      "\n",
      "0.765612022018\n",
      "Best score 7.6561e-01 with parameters {'C': 1.0}\n",
      "Train subject 10, class BothStartLoadPhase\n",
      "Learning CSP for stim_channel BothStartLoadPhase\n",
      "Learning CSP for stim_channel BothStartLoadPhase. Done.\n",
      "Filter raw data with csp filter.\n",
      "Filter raw data with csp filter. Done.\n",
      "Convolve features for smoothing.\n",
      "Convolve features for smoothing. Done.\n",
      "Filter raw data with csp filter.\n",
      "Filter raw data with csp filter. Done.\n",
      "Convolve features for smoothing.\n"
     ]
    },
    {
     "name": "stderr",
     "output_type": "stream",
     "text": [
      "[Parallel(n_jobs=1)]: Done   1 jobs       | elapsed:    0.5s\n",
      "[Parallel(n_jobs=1)]: Done   5 out of   5 | elapsed:    2.7s finished\n"
     ]
    },
    {
     "name": "stdout",
     "output_type": "stream",
     "text": [
      "Convolve features for smoothing. Done.\n",
      "Fitting 5 folds for each of 1 candidates, totalling 5 fits\n",
      "0.769098859162\n",
      "Best score 7.6910e-01 with parameters {'C': 1.0}\n",
      "Train subject 10, class LiftOff\n",
      "Learning CSP for stim_channel LiftOff\n",
      "Learning CSP for stim_channel LiftOff. Done.\n",
      "Filter raw data with csp filter.\n",
      "Filter raw data with csp filter. Done.\n",
      "Convolve features for smoothing.\n",
      "Convolve features for smoothing. Done.\n",
      "Filter raw data with csp filter.\n",
      "Filter raw data with csp filter. Done.\n",
      "Convolve features for smoothing.\n"
     ]
    },
    {
     "name": "stderr",
     "output_type": "stream",
     "text": [
      "[Parallel(n_jobs=1)]: Done   1 jobs       | elapsed:    0.4s\n",
      "[Parallel(n_jobs=1)]: Done   5 out of   5 | elapsed:    2.5s finished\n"
     ]
    },
    {
     "name": "stdout",
     "output_type": "stream",
     "text": [
      "Convolve features for smoothing. Done.\n",
      "Fitting 5 folds for each of 1 candidates, totalling 5 fits\n",
      "0.77867456606\n",
      "Best score 7.7867e-01 with parameters {'C': 1.0}\n",
      "Train subject 10, class Replace\n",
      "Learning CSP for stim_channel Replace\n",
      "Learning CSP for stim_channel Replace. Done.\n",
      "Filter raw data with csp filter.\n",
      "Filter raw data with csp filter. Done.\n",
      "Convolve features for smoothing.\n",
      "Convolve features for smoothing. Done.\n",
      "Filter raw data with csp filter.\n",
      "Filter raw data with csp filter. Done.\n",
      "Convolve features for smoothing.\n"
     ]
    },
    {
     "name": "stderr",
     "output_type": "stream",
     "text": [
      "[Parallel(n_jobs=1)]: Done   1 jobs       | elapsed:    0.5s\n",
      "[Parallel(n_jobs=1)]: Done   5 out of   5 | elapsed:    2.4s finished\n"
     ]
    },
    {
     "name": "stdout",
     "output_type": "stream",
     "text": [
      "Convolve features for smoothing. Done.\n",
      "Fitting 5 folds for each of 1 candidates, totalling 5 fits\n",
      "0.671151647629\n",
      "Best score 6.7115e-01 with parameters {'C': 1.0}\n",
      "Train subject 10, class BothReleased\n",
      "Learning CSP for stim_channel BothReleased\n",
      "Learning CSP for stim_channel BothReleased. Done.\n",
      "Filter raw data with csp filter.\n",
      "Filter raw data with csp filter. Done.\n",
      "Convolve features for smoothing.\n",
      "Convolve features for smoothing. Done.\n",
      "Filter raw data with csp filter.\n",
      "Filter raw data with csp filter. Done.\n",
      "Convolve features for smoothing.\n",
      "Convolve features for smoothing. Done.\n",
      "Fitting 5 folds for each of 1 candidates, totalling 5 fits"
     ]
    },
    {
     "name": "stderr",
     "output_type": "stream",
     "text": [
      "[Parallel(n_jobs=1)]: Done   1 jobs       | elapsed:    0.5s\n",
      "[Parallel(n_jobs=1)]: Done   5 out of   5 | elapsed:    2.4s finished\n"
     ]
    },
    {
     "name": "stdout",
     "output_type": "stream",
     "text": [
      "\n",
      "0.706231821662\n",
      "Best score 7.0623e-01 with parameters {'C': 1.0}\n",
      "Reading subject 11 data\n",
      "Reading subject 11 data. Done.\n",
      "Reading subject 11 test data\n",
      "Reading subject 11 test data. Done.\n",
      "Reading subject 11 test ids\n",
      "Reading subject 11 test ids. Done.\n",
      "Train subject 11, class HandStart\n",
      "Learning CSP for stim_channel HandStart\n",
      "Learning CSP for stim_channel HandStart. Done.\n",
      "Filter raw data with csp filter.\n",
      "Filter raw data with csp filter. Done.\n",
      "Convolve features for smoothing.\n",
      "Convolve features for smoothing. Done.\n",
      "Filter raw data with csp filter.\n",
      "Filter raw data with csp filter. Done.\n",
      "Convolve features for smoothing.\n"
     ]
    },
    {
     "name": "stderr",
     "output_type": "stream",
     "text": [
      "[Parallel(n_jobs=1)]: Done   1 jobs       | elapsed:    0.3s\n",
      "[Parallel(n_jobs=1)]: Done   5 out of   5 | elapsed:    1.8s finished\n"
     ]
    },
    {
     "name": "stdout",
     "output_type": "stream",
     "text": [
      "Convolve features for smoothing. Done.\n",
      "Fitting 5 folds for each of 1 candidates, totalling 5 fits\n",
      "0.582602051481\n",
      "Best score 5.8260e-01 with parameters {'C': 1.0}\n",
      "Train subject 11, class FirstDigitTouch\n",
      "Learning CSP for stim_channel FirstDigitTouch\n",
      "Learning CSP for stim_channel FirstDigitTouch. Done.\n",
      "Filter raw data with csp filter.\n",
      "Filter raw data with csp filter. Done.\n",
      "Convolve features for smoothing.\n",
      "Convolve features for smoothing. Done.\n",
      "Filter raw data with csp filter.\n",
      "Filter raw data with csp filter. Done.\n",
      "Convolve features for smoothing.\n"
     ]
    },
    {
     "name": "stderr",
     "output_type": "stream",
     "text": [
      "[Parallel(n_jobs=1)]: Done   1 jobs       | elapsed:    0.4s\n",
      "[Parallel(n_jobs=1)]: Done   5 out of   5 | elapsed:    2.0s finished\n"
     ]
    },
    {
     "name": "stdout",
     "output_type": "stream",
     "text": [
      "Convolve features for smoothing. Done.\n",
      "Fitting 5 folds for each of 1 candidates, totalling 5 fits\n",
      "0.68564643417\n",
      "Best score 6.8565e-01 with parameters {'C': 1.0}\n",
      "Train subject 11, class BothStartLoadPhase\n",
      "Learning CSP for stim_channel BothStartLoadPhase\n",
      "Learning CSP for stim_channel BothStartLoadPhase. Done.\n",
      "Filter raw data with csp filter.\n",
      "Filter raw data with csp filter. Done.\n",
      "Convolve features for smoothing.\n",
      "Convolve features for smoothing. Done.\n",
      "Filter raw data with csp filter.\n",
      "Filter raw data with csp filter. Done.\n",
      "Convolve features for smoothing.\n"
     ]
    },
    {
     "name": "stderr",
     "output_type": "stream",
     "text": [
      "[Parallel(n_jobs=1)]: Done   1 jobs       | elapsed:    0.4s\n",
      "[Parallel(n_jobs=1)]: Done   5 out of   5 | elapsed:    1.7s finished\n"
     ]
    },
    {
     "name": "stdout",
     "output_type": "stream",
     "text": [
      "Convolve features for smoothing. Done.\n",
      "Fitting 5 folds for each of 1 candidates, totalling 5 fits\n",
      "0.787051503628\n",
      "Best score 7.8705e-01 with parameters {'C': 1.0}\n",
      "Train subject 11, class LiftOff\n",
      "Learning CSP for stim_channel LiftOff\n",
      "Learning CSP for stim_channel LiftOff. Done.\n",
      "Filter raw data with csp filter.\n",
      "Filter raw data with csp filter. Done.\n",
      "Convolve features for smoothing.\n",
      "Convolve features for smoothing. Done.\n",
      "Filter raw data with csp filter.\n",
      "Filter raw data with csp filter. Done.\n",
      "Convolve features for smoothing.\n"
     ]
    },
    {
     "name": "stderr",
     "output_type": "stream",
     "text": [
      "[Parallel(n_jobs=1)]: Done   1 jobs       | elapsed:    0.5s\n",
      "[Parallel(n_jobs=1)]: Done   5 out of   5 | elapsed:    2.0s finished\n"
     ]
    },
    {
     "name": "stdout",
     "output_type": "stream",
     "text": [
      "Convolve features for smoothing. Done.\n",
      "Fitting 5 folds for each of 1 candidates, totalling 5 fits\n",
      "0.747898169537\n",
      "Best score 7.4790e-01 with parameters {'C': 1.0}\n",
      "Train subject 11, class Replace\n",
      "Learning CSP for stim_channel Replace\n",
      "Learning CSP for stim_channel Replace. Done.\n",
      "Filter raw data with csp filter.\n",
      "Filter raw data with csp filter. Done.\n",
      "Convolve features for smoothing.\n",
      "Convolve features for smoothing. Done.\n",
      "Filter raw data with csp filter.\n",
      "Filter raw data with csp filter. Done.\n",
      "Convolve features for smoothing.\n"
     ]
    },
    {
     "name": "stderr",
     "output_type": "stream",
     "text": [
      "[Parallel(n_jobs=1)]: Done   1 jobs       | elapsed:    0.4s\n",
      "[Parallel(n_jobs=1)]: Done   5 out of   5 | elapsed:    2.2s finished\n"
     ]
    },
    {
     "name": "stdout",
     "output_type": "stream",
     "text": [
      "Convolve features for smoothing. Done.\n",
      "Fitting 5 folds for each of 1 candidates, totalling 5 fits\n",
      "0.6356187718\n",
      "Best score 6.3562e-01 with parameters {'C': 1.0}\n",
      "Train subject 11, class BothReleased\n",
      "Learning CSP for stim_channel BothReleased\n",
      "Learning CSP for stim_channel BothReleased. Done.\n",
      "Filter raw data with csp filter.\n",
      "Filter raw data with csp filter. Done.\n",
      "Convolve features for smoothing.\n",
      "Convolve features for smoothing. Done.\n",
      "Filter raw data with csp filter.\n",
      "Filter raw data with csp filter. Done.\n",
      "Convolve features for smoothing.\n",
      "Convolve features for smoothing. Done.\n",
      "Fitting 5 folds for each of 1 candidates, totalling 5 fits"
     ]
    },
    {
     "name": "stderr",
     "output_type": "stream",
     "text": [
      "[Parallel(n_jobs=1)]: Done   1 jobs       | elapsed:    0.4s\n",
      "[Parallel(n_jobs=1)]: Done   5 out of   5 | elapsed:    2.2s finished\n"
     ]
    },
    {
     "name": "stdout",
     "output_type": "stream",
     "text": [
      "\n",
      "0.504024875803\n",
      "Best score 5.0402e-01 with parameters {'C': 1.0}\n",
      "Reading subject 12 data\n",
      "Reading subject 12 data. Done.\n",
      "Reading subject 12 test data\n",
      "Reading subject 12 test data. Done.\n",
      "Reading subject 12 test ids\n",
      "Reading subject 12 test ids. Done.\n",
      "Train subject 12, class HandStart\n",
      "Learning CSP for stim_channel HandStart\n",
      "Learning CSP for stim_channel HandStart. Done.\n",
      "Filter raw data with csp filter.\n",
      "Filter raw data with csp filter. Done.\n",
      "Convolve features for smoothing.\n",
      "Convolve features for smoothing. Done.\n",
      "Filter raw data with csp filter.\n",
      "Filter raw data with csp filter. Done.\n",
      "Convolve features for smoothing.\n",
      "Convolve features for smoothing. Done.\n",
      "Fitting 5 folds for each of 1 candidates, totalling 5 fits"
     ]
    },
    {
     "name": "stderr",
     "output_type": "stream",
     "text": [
      "[Parallel(n_jobs=1)]: Done   1 jobs       | elapsed:    0.5s\n",
      "[Parallel(n_jobs=1)]: Done   5 out of   5 | elapsed:    2.1s finished\n"
     ]
    },
    {
     "name": "stdout",
     "output_type": "stream",
     "text": [
      "\n",
      "0.679348666336\n",
      "Best score 6.7935e-01 with parameters {'C': 1.0}\n",
      "Train subject 12, class FirstDigitTouch\n",
      "Learning CSP for stim_channel FirstDigitTouch\n",
      "Learning CSP for stim_channel FirstDigitTouch. Done.\n",
      "Filter raw data with csp filter.\n",
      "Filter raw data with csp filter. Done.\n",
      "Convolve features for smoothing.\n",
      "Convolve features for smoothing. Done.\n",
      "Filter raw data with csp filter.\n",
      "Filter raw data with csp filter. Done.\n",
      "Convolve features for smoothing.\n"
     ]
    },
    {
     "name": "stderr",
     "output_type": "stream",
     "text": [
      "[Parallel(n_jobs=1)]: Done   1 jobs       | elapsed:    0.5s\n",
      "[Parallel(n_jobs=1)]: Done   5 out of   5 | elapsed:    2.4s finished\n"
     ]
    },
    {
     "name": "stdout",
     "output_type": "stream",
     "text": [
      "Convolve features for smoothing. Done.\n",
      "Fitting 5 folds for each of 1 candidates, totalling 5 fits\n",
      "0.724480972473\n",
      "Best score 7.2448e-01 with parameters {'C': 1.0}\n",
      "Train subject 12, class BothStartLoadPhase\n",
      "Learning CSP for stim_channel BothStartLoadPhase\n",
      "Learning CSP for stim_channel BothStartLoadPhase. Done.\n",
      "Filter raw data with csp filter.\n",
      "Filter raw data with csp filter. Done.\n",
      "Convolve features for smoothing.\n",
      "Convolve features for smoothing. Done.\n",
      "Filter raw data with csp filter.\n",
      "Filter raw data with csp filter. Done.\n",
      "Convolve features for smoothing.\n",
      "Convolve features for smoothing. Done.\n",
      "Fitting 5 folds for each of 1 candidates, totalling 5 fits"
     ]
    },
    {
     "name": "stderr",
     "output_type": "stream",
     "text": [
      "[Parallel(n_jobs=1)]: Done   1 jobs       | elapsed:    0.6s\n",
      "[Parallel(n_jobs=1)]: Done   5 out of   5 | elapsed:    3.2s finished\n"
     ]
    },
    {
     "name": "stdout",
     "output_type": "stream",
     "text": [
      "\n",
      "0.717923220597\n",
      "Best score 7.1792e-01 with parameters {'C': 1.0}\n",
      "Train subject 12, class LiftOff\n",
      "Learning CSP for stim_channel LiftOff\n",
      "Learning CSP for stim_channel LiftOff. Done.\n",
      "Filter raw data with csp filter.\n",
      "Filter raw data with csp filter. Done.\n",
      "Convolve features for smoothing.\n",
      "Convolve features for smoothing. Done.\n",
      "Filter raw data with csp filter.\n",
      "Filter raw data with csp filter. Done.\n",
      "Convolve features for smoothing.\n"
     ]
    },
    {
     "name": "stderr",
     "output_type": "stream",
     "text": [
      "[Parallel(n_jobs=1)]: Done   1 jobs       | elapsed:    0.5s\n",
      "[Parallel(n_jobs=1)]: Done   5 out of   5 | elapsed:    2.4s finished\n"
     ]
    },
    {
     "name": "stdout",
     "output_type": "stream",
     "text": [
      "Convolve features for smoothing. Done.\n",
      "Fitting 5 folds for each of 1 candidates, totalling 5 fits\n",
      "0.629651221987\n",
      "Best score 6.2965e-01 with parameters {'C': 1.0}\n",
      "Train subject 12, class Replace\n",
      "Learning CSP for stim_channel Replace\n",
      "Learning CSP for stim_channel Replace. Done.\n",
      "Filter raw data with csp filter.\n",
      "Filter raw data with csp filter. Done.\n",
      "Convolve features for smoothing.\n",
      "Convolve features for smoothing. Done.\n",
      "Filter raw data with csp filter.\n",
      "Filter raw data with csp filter. Done.\n",
      "Convolve features for smoothing.\n",
      "Convolve features for smoothing. Done.\n",
      "Fitting 5 folds for each of 1 candidates, totalling 5 fits"
     ]
    },
    {
     "name": "stderr",
     "output_type": "stream",
     "text": [
      "[Parallel(n_jobs=1)]: Done   1 jobs       | elapsed:    0.6s\n",
      "[Parallel(n_jobs=1)]: Done   5 out of   5 | elapsed:    2.6s finished\n"
     ]
    },
    {
     "name": "stdout",
     "output_type": "stream",
     "text": [
      "\n",
      "0.688574200167\n",
      "Best score 6.8857e-01 with parameters {'C': 1.0}\n",
      "Train subject 12, class BothReleased\n",
      "Learning CSP for stim_channel BothReleased\n",
      "Learning CSP for stim_channel BothReleased. Done.\n",
      "Filter raw data with csp filter.\n",
      "Filter raw data with csp filter. Done.\n",
      "Convolve features for smoothing.\n",
      "Convolve features for smoothing. Done.\n",
      "Filter raw data with csp filter.\n",
      "Filter raw data with csp filter. Done.\n",
      "Convolve features for smoothing.\n",
      "Convolve features for smoothing. Done.\n",
      "Fitting 5 folds for each of 1 candidates, totalling 5 fits"
     ]
    },
    {
     "name": "stderr",
     "output_type": "stream",
     "text": [
      "[Parallel(n_jobs=1)]: Done   1 jobs       | elapsed:    0.6s\n",
      "[Parallel(n_jobs=1)]: Done   5 out of   5 | elapsed:    3.0s finished\n"
     ]
    },
    {
     "name": "stdout",
     "output_type": "stream",
     "text": [
      "\n",
      "0.696445397038\n",
      "Best score 6.9645e-01 with parameters {'C': 1.0}\n"
     ]
    }
   ],
   "source": [
    "train_all()"
   ]
  },
  {
   "cell_type": "code",
   "execution_count": null,
   "metadata": {
    "collapsed": false
   },
   "outputs": [
    {
     "name": "stdout",
     "output_type": "stream",
     "text": [
      "Reading subject 1 data\n",
      "Reading subject 1 data. Done.\n",
      "Reading subject 1 test data\n",
      "Reading subject 1 test data. Done.\n",
      "Reading subject 1 test ids\n",
      "Reading subject 1 test ids. Done.\n",
      "Train subject 1, class HandStart\n",
      "Learning CSP for stim_channel HandStart\n",
      "Learning CSP for stim_channel HandStart. Done.\n",
      "Filter raw data with csp filter.\n",
      "Filter raw data with csp filter. Done.\n",
      "Convolve features for smoothing.\n",
      "Convolve features for smoothing. Done.\n",
      "Filter raw data with csp filter.\n",
      "Filter raw data with csp filter. Done.\n",
      "Convolve features for smoothing.\n"
     ]
    },
    {
     "name": "stderr",
     "output_type": "stream",
     "text": [
      "[Parallel(n_jobs=1)]: Done   1 jobs       | elapsed:   14.3s\n",
      "[Parallel(n_jobs=1)]: Done  25 out of  25 | elapsed:  3.4min finished\n"
     ]
    },
    {
     "name": "stdout",
     "output_type": "stream",
     "text": [
      "Convolve features for smoothing. Done.\n",
      "Fitting 5 folds for each of 5 candidates, totalling 25 fits\n",
      "0.628694645856\n",
      "Best score 6.2869e-01 with parameters {'min_samples_split': 65536, 'n_estimators': 500, 'n_jobs': 20}\n",
      "Train subject 1, class FirstDigitTouch\n",
      "Learning CSP for stim_channel FirstDigitTouch\n",
      "Learning CSP for stim_channel FirstDigitTouch. Done.\n",
      "Filter raw data with csp filter.\n",
      "Filter raw data with csp filter. Done.\n",
      "Convolve features for smoothing.\n",
      "Convolve features for smoothing. Done.\n",
      "Filter raw data with csp filter.\n",
      "Filter raw data with csp filter. Done.\n",
      "Convolve features for smoothing.\n"
     ]
    },
    {
     "name": "stderr",
     "output_type": "stream",
     "text": [
      "[Parallel(n_jobs=1)]: Done   1 jobs       | elapsed:   11.9s\n",
      "[Parallel(n_jobs=1)]: Done  25 out of  25 | elapsed:  2.9min finished\n"
     ]
    },
    {
     "name": "stdout",
     "output_type": "stream",
     "text": [
      "Convolve features for smoothing. Done.\n",
      "Fitting 5 folds for each of 5 candidates, totalling 25 fits\n",
      "0.707669176277\n",
      "Best score 7.0767e-01 with parameters {'min_samples_split': 16384, 'n_estimators': 500, 'n_jobs': 20}\n",
      "Train subject 1, class BothStartLoadPhase\n",
      "Learning CSP for stim_channel BothStartLoadPhase\n",
      "Learning CSP for stim_channel BothStartLoadPhase. Done.\n",
      "Filter raw data with csp filter.\n",
      "Filter raw data with csp filter. Done.\n",
      "Convolve features for smoothing.\n",
      "Convolve features for smoothing. Done.\n",
      "Filter raw data with csp filter.\n",
      "Filter raw data with csp filter. Done.\n",
      "Convolve features for smoothing.\n"
     ]
    },
    {
     "name": "stderr",
     "output_type": "stream",
     "text": [
      "[Parallel(n_jobs=1)]: Done   1 jobs       | elapsed:   11.7s\n",
      "[Parallel(n_jobs=1)]: Done  25 out of  25 | elapsed:  2.9min finished\n"
     ]
    },
    {
     "name": "stdout",
     "output_type": "stream",
     "text": [
      "Convolve features for smoothing. Done.\n",
      "Fitting 5 folds for each of 5 candidates, totalling 25 fits\n",
      "0.730653925853\n",
      "Best score 7.3065e-01 with parameters {'min_samples_split': 16384, 'n_estimators': 500, 'n_jobs': 20}\n",
      "Train subject 1, class LiftOff\n",
      "Learning CSP for stim_channel LiftOff\n",
      "Learning CSP for stim_channel LiftOff. Done.\n",
      "Filter raw data with csp filter.\n",
      "Filter raw data with csp filter. Done.\n",
      "Convolve features for smoothing.\n",
      "Convolve features for smoothing. Done.\n",
      "Filter raw data with csp filter.\n",
      "Filter raw data with csp filter. Done.\n",
      "Convolve features for smoothing.\n"
     ]
    },
    {
     "name": "stderr",
     "output_type": "stream",
     "text": [
      "[Parallel(n_jobs=1)]: Done   1 jobs       | elapsed:   10.2s\n",
      "[Parallel(n_jobs=1)]: Done  25 out of  25 | elapsed:  2.7min finished\n"
     ]
    },
    {
     "name": "stdout",
     "output_type": "stream",
     "text": [
      "Convolve features for smoothing. Done.\n",
      "Fitting 5 folds for each of 5 candidates, totalling 25 fits\n",
      "0.8037929034\n",
      "Best score 8.0379e-01 with parameters {'min_samples_split': 16384, 'n_estimators': 500, 'n_jobs': 20}\n",
      "Train subject 1, class Replace\n",
      "Learning CSP for stim_channel Replace\n",
      "Learning CSP for stim_channel Replace. Done.\n",
      "Filter raw data with csp filter.\n",
      "Filter raw data with csp filter. Done.\n",
      "Convolve features for smoothing.\n",
      "Convolve features for smoothing. Done.\n",
      "Filter raw data with csp filter.\n",
      "Filter raw data with csp filter. Done.\n",
      "Convolve features for smoothing.\n"
     ]
    },
    {
     "name": "stderr",
     "output_type": "stream",
     "text": [
      "[Parallel(n_jobs=1)]: Done   1 jobs       | elapsed:   12.0s\n",
      "[Parallel(n_jobs=1)]: Done  25 out of  25 | elapsed:  2.9min finished\n"
     ]
    },
    {
     "name": "stdout",
     "output_type": "stream",
     "text": [
      "Convolve features for smoothing. Done.\n",
      "Fitting 5 folds for each of 5 candidates, totalling 25 fits\n",
      "0.625356252525\n",
      "Best score 6.2536e-01 with parameters {'min_samples_split': 65536, 'n_estimators': 500, 'n_jobs': 20}\n",
      "Train subject 1, class BothReleased\n",
      "Learning CSP for stim_channel BothReleased\n",
      "Learning CSP for stim_channel BothReleased. Done.\n",
      "Filter raw data with csp filter.\n",
      "Filter raw data with csp filter. Done.\n",
      "Convolve features for smoothing.\n",
      "Convolve features for smoothing. Done.\n",
      "Filter raw data with csp filter.\n",
      "Filter raw data with csp filter. Done.\n",
      "Convolve features for smoothing.\n"
     ]
    },
    {
     "name": "stderr",
     "output_type": "stream",
     "text": [
      "[Parallel(n_jobs=1)]: Done   1 jobs       | elapsed:   11.5s\n",
      "[Parallel(n_jobs=1)]: Done  25 out of  25 | elapsed:  2.8min finished\n"
     ]
    },
    {
     "name": "stdout",
     "output_type": "stream",
     "text": [
      "Convolve features for smoothing. Done.\n",
      "Fitting 5 folds for each of 5 candidates, totalling 25 fits\n",
      "0.66538061187\n",
      "Best score 6.6538e-01 with parameters {'min_samples_split': 16384, 'n_estimators': 500, 'n_jobs': 20}\n",
      "Reading subject 2 data\n",
      "Reading subject 2 data. Done.\n",
      "Reading subject 2 test data\n",
      "Reading subject 2 test data. Done.\n",
      "Reading subject 2 test ids\n",
      "Reading subject 2 test ids. Done.\n",
      "Train subject 2, class HandStart\n",
      "Learning CSP for stim_channel HandStart\n",
      "Learning CSP for stim_channel HandStart. Done.\n",
      "Filter raw data with csp filter.\n",
      "Filter raw data with csp filter. Done.\n",
      "Convolve features for smoothing.\n",
      "Convolve features for smoothing. Done.\n",
      "Filter raw data with csp filter.\n",
      "Filter raw data with csp filter. Done.\n",
      "Convolve features for smoothing.\n"
     ]
    },
    {
     "name": "stderr",
     "output_type": "stream",
     "text": [
      "[Parallel(n_jobs=1)]: Done   1 jobs       | elapsed:   13.3s\n",
      "[Parallel(n_jobs=1)]: Done  25 out of  25 | elapsed:  3.2min finished\n"
     ]
    },
    {
     "name": "stdout",
     "output_type": "stream",
     "text": [
      "Convolve features for smoothing. Done.\n",
      "Fitting 5 folds for each of 5 candidates, totalling 25 fits\n",
      "0.721488601433\n",
      "Best score 7.2149e-01 with parameters {'min_samples_split': 4096, 'n_estimators': 500, 'n_jobs': 20}\n",
      "Train subject 2, class FirstDigitTouch\n",
      "Learning CSP for stim_channel FirstDigitTouch\n",
      "Learning CSP for stim_channel FirstDigitTouch. Done.\n",
      "Filter raw data with csp filter.\n",
      "Filter raw data with csp filter. Done.\n",
      "Convolve features for smoothing.\n",
      "Convolve features for smoothing. Done.\n",
      "Filter raw data with csp filter.\n",
      "Filter raw data with csp filter. Done.\n",
      "Convolve features for smoothing.\n",
      "Convolve features for smoothing. Done.\n",
      "Fitting 5 folds for each of 5 candidates, totalling 25 fits"
     ]
    },
    {
     "name": "stderr",
     "output_type": "stream",
     "text": [
      "[Parallel(n_jobs=1)]: Done   1 jobs       | elapsed:   13.9s\n",
      "[Parallel(n_jobs=1)]: Done  25 out of  25 | elapsed:  3.3min finished\n"
     ]
    },
    {
     "name": "stdout",
     "output_type": "stream",
     "text": [
      "\n",
      "0.782291456824\n",
      "Best score 7.8229e-01 with parameters {'min_samples_split': 4096, 'n_estimators': 500, 'n_jobs': 20}\n",
      "Train subject 2, class BothStartLoadPhase\n",
      "Learning CSP for stim_channel BothStartLoadPhase\n",
      "Learning CSP for stim_channel BothStartLoadPhase. Done.\n",
      "Filter raw data with csp filter.\n",
      "Filter raw data with csp filter. Done.\n",
      "Convolve features for smoothing.\n",
      "Convolve features for smoothing. Done.\n",
      "Filter raw data with csp filter.\n",
      "Filter raw data with csp filter. Done.\n",
      "Convolve features for smoothing.\n",
      "Convolve features for smoothing. Done.\n",
      "Fitting 5 folds for each of 5 candidates, totalling 25 fits"
     ]
    },
    {
     "name": "stderr",
     "output_type": "stream",
     "text": [
      "[Parallel(n_jobs=1)]: Done   1 jobs       | elapsed:   13.7s\n",
      "[Parallel(n_jobs=1)]: Done  25 out of  25 | elapsed:  3.3min finished\n"
     ]
    },
    {
     "name": "stdout",
     "output_type": "stream",
     "text": [
      "\n",
      "0.795611199264\n",
      "Best score 7.9561e-01 with parameters {'min_samples_split': 4096, 'n_estimators': 500, 'n_jobs': 20}\n",
      "Train subject 2, class LiftOff\n",
      "Learning CSP for stim_channel LiftOff\n",
      "Learning CSP for stim_channel LiftOff. Done.\n",
      "Filter raw data with csp filter.\n",
      "Filter raw data with csp filter. Done.\n",
      "Convolve features for smoothing.\n",
      "Convolve features for smoothing. Done.\n",
      "Filter raw data with csp filter.\n",
      "Filter raw data with csp filter. Done.\n",
      "Convolve features for smoothing.\n",
      "Convolve features for smoothing. Done.\n",
      "Fitting 5 folds for each of 5 candidates, totalling 25 fits"
     ]
    },
    {
     "name": "stderr",
     "output_type": "stream",
     "text": [
      "[Parallel(n_jobs=1)]: Done   1 jobs       | elapsed:   14.7s\n",
      "[Parallel(n_jobs=1)]: Done  25 out of  25 | elapsed:  3.4min finished\n"
     ]
    },
    {
     "name": "stdout",
     "output_type": "stream",
     "text": [
      "\n",
      "0.774786838373\n",
      "Best score 7.7479e-01 with parameters {'min_samples_split': 4096, 'n_estimators': 500, 'n_jobs': 20}\n",
      "Train subject 2, class Replace\n",
      "Learning CSP for stim_channel Replace\n",
      "Learning CSP for stim_channel Replace. Done.\n",
      "Filter raw data with csp filter.\n",
      "Filter raw data with csp filter. Done.\n",
      "Convolve features for smoothing.\n",
      "Convolve features for smoothing. Done.\n",
      "Filter raw data with csp filter.\n",
      "Filter raw data with csp filter. Done.\n",
      "Convolve features for smoothing.\n",
      "Convolve features for smoothing. Done.\n",
      "Fitting 5 folds for each of 5 candidates, totalling 25 fits"
     ]
    },
    {
     "name": "stderr",
     "output_type": "stream",
     "text": [
      "[Parallel(n_jobs=1)]: Done   1 jobs       | elapsed:   13.6s\n",
      "[Parallel(n_jobs=1)]: Done  25 out of  25 | elapsed:  3.2min finished\n"
     ]
    },
    {
     "name": "stdout",
     "output_type": "stream",
     "text": [
      "\n",
      "0.759695852976\n",
      "Best score 7.5970e-01 with parameters {'min_samples_split': 16384, 'n_estimators': 500, 'n_jobs': 20}\n",
      "Train subject 2, class BothReleased\n",
      "Learning CSP for stim_channel BothReleased\n",
      "Learning CSP for stim_channel BothReleased. Done.\n",
      "Filter raw data with csp filter.\n",
      "Filter raw data with csp filter. Done.\n",
      "Convolve features for smoothing.\n",
      "Convolve features for smoothing. Done.\n",
      "Filter raw data with csp filter.\n",
      "Filter raw data with csp filter. Done.\n",
      "Convolve features for smoothing.\n",
      "Convolve features for smoothing. Done.\n",
      "Fitting 5 folds for each of 5 candidates, totalling 25 fits"
     ]
    },
    {
     "name": "stderr",
     "output_type": "stream",
     "text": [
      "[Parallel(n_jobs=1)]: Done   1 jobs       | elapsed:   13.9s\n",
      "[Parallel(n_jobs=1)]: Done  25 out of  25 | elapsed:  3.2min finished\n"
     ]
    },
    {
     "name": "stdout",
     "output_type": "stream",
     "text": [
      "\n",
      "0.769220620137\n",
      "Best score 7.6922e-01 with parameters {'min_samples_split': 16384, 'n_estimators': 500, 'n_jobs': 20}\n",
      "Reading subject 3 data\n",
      "Reading subject 3 data. Done.\n",
      "Reading subject 3 test data\n",
      "Reading subject 3 test data. Done.\n",
      "Reading subject 3 test ids\n",
      "Reading subject 3 test ids. Done.\n",
      "Train subject 3, class HandStart\n",
      "Learning CSP for stim_channel HandStart\n",
      "Learning CSP for stim_channel HandStart. Done.\n",
      "Filter raw data with csp filter.\n",
      "Filter raw data with csp filter. Done.\n",
      "Convolve features for smoothing.\n",
      "Convolve features for smoothing. Done.\n",
      "Filter raw data with csp filter.\n",
      "Filter raw data with csp filter. Done.\n",
      "Convolve features for smoothing.\n"
     ]
    },
    {
     "name": "stderr",
     "output_type": "stream",
     "text": [
      "[Parallel(n_jobs=1)]: Done   1 jobs       | elapsed:   12.4s\n",
      "[Parallel(n_jobs=1)]: Done  25 out of  25 | elapsed:  2.8min finished\n"
     ]
    },
    {
     "name": "stdout",
     "output_type": "stream",
     "text": [
      "Convolve features for smoothing. Done.\n",
      "Fitting 5 folds for each of 5 candidates, totalling 25 fits\n",
      "0.634619325404\n",
      "Best score 6.3462e-01 with parameters {'min_samples_split': 16384, 'n_estimators': 500, 'n_jobs': 20}\n",
      "Train subject 3, class FirstDigitTouch\n",
      "Learning CSP for stim_channel FirstDigitTouch\n",
      "Learning CSP for stim_channel FirstDigitTouch. Done.\n",
      "Filter raw data with csp filter.\n",
      "Filter raw data with csp filter. Done.\n",
      "Convolve features for smoothing.\n",
      "Convolve features for smoothing. Done.\n",
      "Filter raw data with csp filter.\n",
      "Filter raw data with csp filter. Done.\n",
      "Convolve features for smoothing.\n"
     ]
    },
    {
     "name": "stderr",
     "output_type": "stream",
     "text": [
      "[Parallel(n_jobs=1)]: Done   1 jobs       | elapsed:    9.2s\n",
      "[Parallel(n_jobs=1)]: Done  25 out of  25 | elapsed:  2.4min finished\n"
     ]
    },
    {
     "name": "stdout",
     "output_type": "stream",
     "text": [
      "Convolve features for smoothing. Done.\n",
      "Fitting 5 folds for each of 5 candidates, totalling 25 fits\n",
      "0.725735730126\n",
      "Best score 7.2574e-01 with parameters {'min_samples_split': 4096, 'n_estimators': 500, 'n_jobs': 20}\n",
      "Train subject 3, class BothStartLoadPhase\n",
      "Learning CSP for stim_channel BothStartLoadPhase\n",
      "Learning CSP for stim_channel BothStartLoadPhase. Done.\n",
      "Filter raw data with csp filter.\n",
      "Filter raw data with csp filter. Done.\n",
      "Convolve features for smoothing.\n",
      "Convolve features for smoothing. Done.\n",
      "Filter raw data with csp filter.\n",
      "Filter raw data with csp filter. Done.\n",
      "Convolve features for smoothing.\n"
     ]
    },
    {
     "name": "stderr",
     "output_type": "stream",
     "text": [
      "[Parallel(n_jobs=1)]: Done   1 jobs       | elapsed:    9.1s\n",
      "[Parallel(n_jobs=1)]: Done  25 out of  25 | elapsed:  2.4min finished\n"
     ]
    },
    {
     "name": "stdout",
     "output_type": "stream",
     "text": [
      "Convolve features for smoothing. Done.\n",
      "Fitting 5 folds for each of 5 candidates, totalling 25 fits\n",
      "0.74000559115\n",
      "Best score 7.4001e-01 with parameters {'min_samples_split': 4096, 'n_estimators': 500, 'n_jobs': 20}\n",
      "Train subject 3, class LiftOff\n",
      "Learning CSP for stim_channel LiftOff\n",
      "Learning CSP for stim_channel LiftOff. Done.\n",
      "Filter raw data with csp filter.\n",
      "Filter raw data with csp filter. Done.\n",
      "Convolve features for smoothing.\n",
      "Convolve features for smoothing. Done.\n",
      "Filter raw data with csp filter.\n",
      "Filter raw data with csp filter. Done.\n",
      "Convolve features for smoothing.\n"
     ]
    },
    {
     "name": "stderr",
     "output_type": "stream",
     "text": [
      "[Parallel(n_jobs=1)]: Done   1 jobs       | elapsed:    9.1s\n",
      "[Parallel(n_jobs=1)]: Done  25 out of  25 | elapsed:  2.4min finished\n"
     ]
    },
    {
     "name": "stdout",
     "output_type": "stream",
     "text": [
      "Convolve features for smoothing. Done.\n",
      "Fitting 5 folds for each of 5 candidates, totalling 25 fits\n",
      "0.758450582068\n",
      "Best score 7.5845e-01 with parameters {'min_samples_split': 4096, 'n_estimators': 500, 'n_jobs': 20}\n",
      "Train subject 3, class Replace\n",
      "Learning CSP for stim_channel Replace\n",
      "Learning CSP for stim_channel Replace. Done.\n",
      "Filter raw data with csp filter.\n",
      "Filter raw data with csp filter. Done.\n",
      "Convolve features for smoothing.\n",
      "Convolve features for smoothing. Done.\n",
      "Filter raw data with csp filter.\n",
      "Filter raw data with csp filter. Done.\n",
      "Convolve features for smoothing.\n"
     ]
    },
    {
     "name": "stderr",
     "output_type": "stream",
     "text": [
      "[Parallel(n_jobs=1)]: Done   1 jobs       | elapsed:   10.7s\n",
      "[Parallel(n_jobs=1)]: Done  25 out of  25 | elapsed:  2.6min finished\n"
     ]
    },
    {
     "name": "stdout",
     "output_type": "stream",
     "text": [
      "Convolve features for smoothing. Done.\n",
      "Fitting 5 folds for each of 5 candidates, totalling 25 fits\n",
      "0.715595045621\n",
      "Best score 7.1560e-01 with parameters {'min_samples_split': 4096, 'n_estimators': 500, 'n_jobs': 20}\n",
      "Train subject 3, class BothReleased\n",
      "Learning CSP for stim_channel BothReleased\n",
      "Learning CSP for stim_channel BothReleased. Done.\n",
      "Filter raw data with csp filter.\n",
      "Filter raw data with csp filter. Done.\n",
      "Convolve features for smoothing.\n",
      "Convolve features for smoothing. Done.\n",
      "Filter raw data with csp filter.\n",
      "Filter raw data with csp filter. Done.\n",
      "Convolve features for smoothing.\n"
     ]
    }
   ],
   "source": [
    "model = RandomForestClassifier()\n",
    "parameters = {'n_estimators':[500], 'min_samples_split':[1024,4096,16384,65536,262144], 'n_jobs':[20]} \n",
    "submission_id = 'randomForest_'\n",
    "train_all(submission_id, model, parameters)"
   ]
  },
  {
   "cell_type": "code",
   "execution_count": 27,
   "metadata": {
    "collapsed": false
   },
   "outputs": [
    {
     "name": "stdout",
     "output_type": "stream",
     "text": [
      "Reading subject 1 data\n",
      "Reading subject 1 data. Done.\n",
      "Reading subject 1 data\n",
      "Reading subject 1 data. Done.\n",
      "Reading subject 1 test data\n",
      "Reading subject 1 test data. Done.\n"
     ]
    }
   ],
   "source": [
    "raw_train = read_training_data(1,[3,4,5,6,7,8])\n",
    "raw_valid = read_training_data(1,[1,2])\n",
    "raw_test = read_test_data(1)"
   ]
  },
  {
   "cell_type": "code",
   "execution_count": 92,
   "metadata": {
    "collapsed": false
   },
   "outputs": [],
   "source": [
    "def load1D(mne_object, test=False): \n",
    "    \"\"\"\n",
    "    Cast input data in nx32 format\n",
    "    \"\"\"\n",
    "    X = mne_object._data[:32]\n",
    "    X = X.astype(np.float32)\n",
    "    X = X.T\n",
    "    if not test:\n",
    "        y = mne_object._data[32:]\n",
    "        y = y.astype(np.float32)\n",
    "        y = y.T\n",
    "    else: \n",
    "        y = Null\n",
    "    \n",
    "    return X, y "
   ]
  },
  {
   "cell_type": "code",
   "execution_count": 93,
   "metadata": {
    "collapsed": false
   },
   "outputs": [],
   "source": [
    "def plot_training(net): \n",
    "    train_loss = np.array([i[\"train_loss\"] for i in net.train_history_])\n",
    "    valid_loss = np.array([i[\"valid_loss\"] for i in net.train_history_])\n",
    "    plt.plot(train_loss, linewidth=3, label=\"train\")\n",
    "    plt.plot(valid_loss, linewidth=3, label=\"valid\")\n",
    "    plt.grid()\n",
    "    plt.legend()\n",
    "    plt.xlabel(\"epoch\")\n",
    "    plt.ylabel(\"loss\")\n",
    "    #plt.ylim(1e-3, 1e-2)\n",
    "    #plt.yscale(\"log\")\n",
    "    plt.show()\n",
    "\n",
    "def score(net, raw_valid, samples=256):\n",
    "    \"\"\"Compute the area under the curve, ROC score\n",
    "    \n",
    "    We take `samples` random samples and compute the ROC AUC\n",
    "    score on those samples. \n",
    "    \"\"\"\n",
    "    X_valid, Y_valid = load1D(raw_valid)\n",
    "    test_indices = np.arange(len(X_valid))\n",
    "    np.random.seed(199)\n",
    "    np.random.shuffle(test_indices)\n",
    "    \n",
    "    predicted = net.predict_proba(test_indices[:samples])\n",
    "    actual = Y_valid[test_indices[:samples]]\n",
    "    return roc_auc_score(actual.reshape(-1), predicted.reshape(-1))\n",
    "\n",
    "    \n",
    "# Lay out the Neural net.\n",
    "\n",
    "class LayerFactory:\n",
    "    \"\"\"Helper class that makes laying out Lasagne layers more pleasant\"\"\"\n",
    "    def __init__(self):\n",
    "        self.layer_cnt = 0\n",
    "        self.kwargs = {}\n",
    "    def __call__(self, layer, layer_name=None, **kwargs):\n",
    "        self.layer_cnt += 1\n",
    "        name = layer_name or \"layer{0}\".format(self.layer_cnt)\n",
    "        for k, v in kwargs.items():\n",
    "            self.kwargs[\"{0}_{1}\".format(name, k)] = v\n",
    "        return (name, layer) \n",
    "\n",
    "def loss(x,t):\n",
    "        return aggregate(binary_crossentropy(x, t))\n",
    "    \n",
    "\n",
    "class IndexBatchIterator(BatchIterator):\n",
    "    \n",
    "    def __init__(self, X_all, y_all, *args, **kwargs):\n",
    "        super(IndexBatchIterator, self).__init__(*args, **kwargs)\n",
    "        \n",
    "        self.y_all = y_all\n",
    "        self.X_all = X_all\n",
    "        \n",
    "        if y_all is None: \n",
    "            self.is_training = False \n",
    "        else:\n",
    "            self.is_training = True\n",
    "\n",
    "        dim = [self.X_all.shape[0]+SAMPLE_SIZE-1] + list(self.X_all.shape[1:]) \n",
    "        self.patched_X = np.zeros(dim, dtype=np.float16)\n",
    "        self.patched_X[SAMPLE_SIZE-1:] = self.X_all \n",
    "        self.patched_X[:SAMPLE_SIZE-1] = self.X_all[0]\n",
    "        \n",
    "        self.Xbuf = np.zeros(([SAMPLE_SIZE]+list(self.X_all.shape[1:])))\n",
    "        \n",
    "    def get_timepoint(self, ndx): \n",
    "        self.Xbuf = self.patched_X[ndx:(ndx+SAMPLE_SIZE)]\n",
    "        return(self.Xbuf[::-1][::DOWNSAMPLE][::-1])\n",
    "        \n",
    "    def transform(self, X_indices, y_indices):\n",
    "        X_indices, y_indices = super(IndexBatchIterator, self).transform(X_indices, y_indices)\n",
    "        \n",
    "        X = np.zeros([len(X_indices)] + [TIME_POINTS] + list(self.X_all.shape[1:]), dtype=np.float32)\n",
    "        #print(self.X_all.shape)\n",
    "        #print(self.y_all.shape)\n",
    "        if self.y_all is not None: \n",
    "            Y = np.zeros([len(X_indices)] + [N_EVENTS], dtype=np.float32)\n",
    "        #print(('%s\\t%s') %(X.shape, Y.shape))\n",
    "        for i, ndx in enumerate(X_indices):\n",
    "            if ndx == -1:\n",
    "                ndx = np.random.randint(len(self.X_all))\n",
    "            X[i] = self.get_timepoint(ndx)\n",
    "            \n",
    "            #print(y_indices)\n",
    "            if y_indices is not None: # Deal with testing case. \n",
    "                    Y[i] = self.y_all[ndx]\n",
    "            Y = None if (y_indices is None) else Y             # Deal with testing case. \n",
    "            \n",
    "            #if self.is_training:\n",
    "                #Y[i]= self.y_all[ndx]\n",
    "            #else:\n",
    "                #Y = None\n",
    "                \n",
    "        return(X, Y)"
   ]
  },
  {
   "cell_type": "code",
   "execution_count": 106,
   "metadata": {
    "collapsed": false
   },
   "outputs": [],
   "source": [
    "# NNET1, 32_channels x TIMEPOINTS\n",
    "SAMPLE_SIZE = 4000\n",
    "DOWNSAMPLE = 8\n",
    "TIME_POINTS = SAMPLE_SIZE // DOWNSAMPLE\n",
    "\n",
    "INPUT_SHAPE = [None, 32, TIME_POINTS]\n",
    "N_EVENTS = 6\n",
    "batch_size=128\n",
    "\n",
    "# We train on TRAIN_SIZE randomly selected location each \"epoch\" (yes, that's\n",
    "# not really an epoch). One-fifth of these locations are used for validation,\n",
    "# hence the 5*X format, to make it clear what the number of validation points\n",
    "# is.\n",
    "TRAIN_SIZE = 5*1024\n",
    "train_indices = np.zeros([TRAIN_SIZE], dtype=int) - 1\n",
    "\n",
    "def create_net1(raw_train, raw_valid, batch_size=128, max_epochs=100):\n",
    "    \"\"\"\n",
    "    Creat simple neuron net with 1 input layer, 1 hidden layer and one output layer\n",
    "    \"\"\"\n",
    "    \n",
    "    X_train, Y_train = load1D(raw_train)\n",
    "    X_valid, Y_valid = load1D(raw_valid)\n",
    "    #X_test, _ = load1D(raw_test)\n",
    "    \n",
    "\n",
    "    print( 'Train dimensions: X %s and Y %s' % (X_train.shape, Y_train.shape) )\n",
    "    print( 'Validation dimensions: X %s and Y %s' % (X_valid.shape, Y_valid.shape) )\n",
    "\n",
    "    batch_iter_train = IndexBatchIterator(X_train, Y_train, batch_size=batch_size)\n",
    "    batch_iter_test  = IndexBatchIterator(X_valid, Y_valid, batch_size=batch_size)\n",
    "    \n",
    "    LF = LayerFactory()\n",
    "\n",
    "    \n",
    "    layers = [\n",
    "        LF(InputLayer, layer_name='input', shape=INPUT_SHAPE), \n",
    "        LF(DropoutLayer, layer_name='Dropout1', p=0.5),\n",
    "        #LF(Conv1DLayer, layer_name='Conv1', num_filters=8, filter_size=1),\n",
    "        LF(DenseLayer, layer_name='Dense1', num_units=1024),\n",
    "        LF(DenseLayer, layer_name=\"output\", num_units=N_EVENTS, nonlinearity=sigmoid)\n",
    "    ]\n",
    "    \n",
    "    net = NeuralNet(\n",
    "        y_tensor_type = theano.tensor.matrix,\n",
    "        layers = layers,\n",
    "        # BatchIterators\n",
    "        batch_iterator_train = batch_iter_train,\n",
    "        batch_iterator_test = batch_iter_test,\n",
    "        # optimization method:\n",
    "        update=nesterov_momentum,\n",
    "        update_learning_rate=0.01,\n",
    "        update_momentum=0.9,\n",
    "        max_epochs=max_epochs,  # we want to train this many epochs\n",
    "        verbose=1,\n",
    "        regression = True,\n",
    "        **LF.kwargs\n",
    "    )\n",
    "    \n",
    "    return net"
   ]
  },
  {
   "cell_type": "code",
   "execution_count": 107,
   "metadata": {
    "collapsed": false
   },
   "outputs": [],
   "source": [
    "def train(factory, subject, max_epochs=100): \n",
    "    \"\"\"\n",
    "    \"\"\"\n",
    "    raw_train = read_training_data(subject,[3,4,5,6,7,8])\n",
    "    raw_valid = read_training_data(subject,[1,2])\n",
    "    #raw_test = read_test_data(subject)\n",
    "    net = factory(raw_train, raw_valid, batch_size=128, max_epochs=max_epochs)\n",
    "    net.fit(train_indices, train_indices)\n",
    "    print('Score of net: %s' % score(net, raw_valid))\n",
    "    plot_training(net)\n",
    "    \n",
    "#print(net._batch_iter_train.X.shape)\n",
    "#print(net.batch_iter_test.X.shape)\n",
    "#net.fit(train_indices, train_indices)\n",
    "#plot_training(net)"
   ]
  },
  {
   "cell_type": "code",
   "execution_count": 108,
   "metadata": {
    "collapsed": false
   },
   "outputs": [
    {
     "name": "stdout",
     "output_type": "stream",
     "text": [
      "Reading subject 1 data\n",
      "Reading subject 1 data. Done.\n",
      "Reading subject 1 data\n",
      "Reading subject 1 data. Done.\n",
      "Train dimensions: X (1030942, 32) and Y (1030942, 6)\n",
      "Validation dimensions: X (391450, 32) and Y (391450, 6)\n",
      "  input             \t[None, 32, 500]     \tproduces   16000 outputs\n",
      "  Dropout1          \t[None, 32, 500]     \tproduces   16000 outputs\n",
      "  Dense1            \t(None, 1024)        \tproduces    1024 outputs\n",
      "  output            \t(None, 6)           \tproduces       6 outputs\n",
      "  epoch    train loss    valid loss    train/val  dur\n",
      "-------  ------------  ------------  -----------  -----\n",
      "      1       \u001b[94m0.23345\u001b[0m       \u001b[32m0.20964\u001b[0m      1.11359  2.72s\n",
      "      2       \u001b[94m0.18759\u001b[0m       \u001b[32m0.16417\u001b[0m      1.14266  2.66s\n",
      "      3       \u001b[94m0.14673\u001b[0m       \u001b[32m0.12797\u001b[0m      1.14654  2.66s\n",
      "      4       \u001b[94m0.11220\u001b[0m       \u001b[32m0.09693\u001b[0m      1.15754  2.66s\n",
      "      5       \u001b[94m0.08849\u001b[0m       \u001b[32m0.07826\u001b[0m      1.13074  2.66s\n",
      "      6       \u001b[94m0.07066\u001b[0m       \u001b[32m0.06203\u001b[0m      1.13911  2.67s\n",
      "      7       \u001b[94m0.05728\u001b[0m       \u001b[32m0.05123\u001b[0m      1.11799  2.67s\n",
      "      8       \u001b[94m0.04957\u001b[0m       \u001b[32m0.04531\u001b[0m      1.09413  2.67s\n",
      "      9       \u001b[94m0.04480\u001b[0m       \u001b[32m0.04145\u001b[0m      1.08073  2.67s\n",
      "     10       \u001b[94m0.04049\u001b[0m       \u001b[32m0.03934\u001b[0m      1.02928  2.85s\n",
      "     11       \u001b[94m0.03861\u001b[0m       \u001b[32m0.03660\u001b[0m      1.05490  2.80s\n",
      "     12       \u001b[94m0.03356\u001b[0m       \u001b[32m0.03038\u001b[0m      1.10485  2.86s\n",
      "     13       0.03369       0.03358      1.00327  2.82s\n",
      "     14       0.03434       0.03157      1.08797  2.68s\n",
      "     15       \u001b[94m0.03213\u001b[0m       0.03170      1.01358  2.67s\n",
      "     16       \u001b[94m0.03148\u001b[0m       \u001b[32m0.02961\u001b[0m      1.06330  2.67s\n",
      "     17       \u001b[94m0.03129\u001b[0m       \u001b[32m0.02855\u001b[0m      1.09609  2.67s\n",
      "     18       0.03273       \u001b[32m0.02826\u001b[0m      1.15810  2.69s\n",
      "     19       \u001b[94m0.03033\u001b[0m       \u001b[32m0.02708\u001b[0m      1.12004  2.67s\n",
      "     20       0.03103       0.02924      1.06134  2.80s\n",
      "     21       \u001b[94m0.02880\u001b[0m       0.02856      1.00853  2.85s\n",
      "     22       \u001b[94m0.02838\u001b[0m       0.02750      1.03198  2.79s\n",
      "     23       0.03003       0.02773      1.08269  2.67s\n",
      "     24       0.03000       0.02785      1.07713  2.67s\n",
      "     25       \u001b[94m0.02816\u001b[0m       0.02840      0.99153  2.67s\n",
      "     26       0.02838       \u001b[32m0.02403\u001b[0m      1.18113  2.72s\n",
      "     27       0.03124       0.03002      1.04063  2.85s\n",
      "     28       0.02841       0.02593      1.09554  2.86s\n",
      "     29       \u001b[94m0.02749\u001b[0m       0.02870      0.95795  2.85s\n",
      "     30       0.02923       0.02647      1.10439  2.85s\n",
      "     31       \u001b[94m0.02729\u001b[0m       0.02668      1.02291  2.75s\n",
      "     32       \u001b[94m0.02582\u001b[0m       0.02618      0.98619  2.85s\n",
      "     33       0.02824       0.02684      1.05214  2.85s\n",
      "     34       0.02724       0.02663      1.02275  2.76s\n",
      "     35       0.02976       \u001b[32m0.02325\u001b[0m      1.28023  2.67s\n",
      "     36       0.02733       0.02712      1.00752  2.80s\n",
      "     37       0.02889       0.02388      1.20968  2.81s\n",
      "     38       0.02849       0.02807      1.01491  2.77s\n",
      "     39       0.02820       0.02643      1.06700  2.75s\n",
      "     40       0.02806       0.02830      0.99140  2.77s\n",
      "     41       0.02752       0.02387      1.15260  2.72s\n",
      "     42       0.02983       \u001b[32m0.02282\u001b[0m      1.30763  2.67s\n",
      "     43       0.02783       0.02807      0.99124  2.67s\n",
      "     44       0.02667       0.02541      1.04967  2.67s\n",
      "     45       0.02848       0.02567      1.10945  2.67s\n",
      "     46       0.02684       0.02787      0.96333  2.67s\n",
      "     47       0.02704       0.02652      1.01982  2.66s\n",
      "     48       0.02850       \u001b[32m0.02118\u001b[0m      1.34586  2.66s\n",
      "     49       0.02764       0.02988      0.92480  2.66s\n",
      "     50       0.02810       0.02721      1.03289  2.66s\n",
      "     51       0.02679       0.03060      0.87554  2.66s\n",
      "     52       \u001b[94m0.02581\u001b[0m       0.02881      0.89593  2.66s\n",
      "     53       0.02721       0.02316      1.17498  2.69s\n",
      "     54       0.02693       0.02656      1.01420  2.80s\n",
      "     55       0.02796       0.02892      0.96678  2.82s\n",
      "     56       0.02691       0.02564      1.04958  2.87s\n",
      "     57       \u001b[94m0.02564\u001b[0m       0.02831      0.90554  2.87s\n",
      "     58       0.02782       0.02547      1.09239  2.76s\n",
      "     59       0.02755       0.02710      1.01668  2.81s\n",
      "     60       0.02743       0.02918      0.94002  2.68s\n",
      "     61       0.02593       \u001b[32m0.02111\u001b[0m      1.22858  2.66s\n",
      "     62       0.02678       0.02468      1.08499  2.71s\n",
      "     63       0.02730       0.02423      1.12676  2.66s\n",
      "     64       0.02639       0.02557      1.03228  2.67s\n",
      "     65       0.02597       0.02556      1.01628  2.87s\n",
      "     66       0.02743       0.02675      1.02528  2.87s\n",
      "     67       0.02686       0.02824      0.95104  2.71s\n",
      "     68       0.02813       0.02539      1.10793  2.72s\n",
      "     69       0.02914       0.02898      1.00527  2.66s\n",
      "     70       0.02838       0.02853      0.99477  2.66s\n",
      "     71       0.02627       0.02417      1.08713  2.66s\n",
      "     72       0.02713       0.02446      1.10919  2.66s\n",
      "     73       0.02788       0.02882      0.96750  2.66s\n",
      "     74       0.02863       0.02746      1.04252  2.66s\n",
      "     75       0.02584       0.02625      0.98438  2.76s\n",
      "     76       \u001b[94m0.02557\u001b[0m       0.02610      0.97995  2.70s\n",
      "     77       0.02700       0.02670      1.01131  2.71s\n",
      "     78       0.02700       0.02488      1.08486  2.68s\n",
      "     79       0.02786       0.02609      1.06788  2.66s\n",
      "     80       0.02816       0.02985      0.94321  2.74s\n",
      "     81       0.02895       0.02623      1.10351  2.79s\n",
      "     82       0.02585       0.02487      1.03954  2.72s\n",
      "     83       0.02664       0.02426      1.09802  2.66s\n",
      "     84       0.02694       0.02517      1.07054  2.65s\n",
      "     85       0.02739       0.02169      1.26284  2.66s\n",
      "     86       0.02811       0.02501      1.12389  2.66s\n",
      "     87       0.02671       0.02274      1.17452  2.66s\n",
      "     88       0.02735       0.02500      1.09376  2.75s\n",
      "     89       \u001b[94m0.02466\u001b[0m       0.02485      0.99244  2.75s\n",
      "     90       0.02840       0.02167      1.31061  2.66s\n",
      "     91       0.02817       0.02696      1.04489  2.66s\n",
      "     92       0.02662       0.02741      0.97109  2.66s\n",
      "     93       0.02707       0.02454      1.10339  2.65s\n",
      "     94       0.02726       0.02786      0.97833  2.67s\n",
      "     95       0.02537       0.02877      0.88161  2.66s\n",
      "     96       0.02870       0.02756      1.04125  2.66s\n",
      "     97       0.02737       0.02483      1.10223  2.66s\n",
      "     98       0.02831       0.02710      1.04472  2.66s\n",
      "     99       0.02551       0.02346      1.08721  2.72s\n",
      "    100       0.02865       0.02755      1.03990  2.75s\n",
      "Score of net: 0.465276983273\n"
     ]
    },
    {
     "data": {
      "image/png": "[encoded data removed]",
      "text/plain": [
       "<matplotlib.figure.Figure at 0x7f675266e310>"
      ]
     },
     "metadata": {},
     "output_type": "display_data"
    },
    {
     "name": "stdout",
     "output_type": "stream",
     "text": [
      "Reading subject 2 data\n",
      "Reading subject 2 data. Done.\n",
      "Reading subject 2 data\n",
      "Reading subject 2 data. Done.\n",
      "Train dimensions: X (1089538, 32) and Y (1089538, 6)\n",
      "Validation dimensions: X (621956, 32) and Y (621956, 6)\n",
      "  input             \t[None, 32, 500]     \tproduces   16000 outputs\n",
      "  Dropout1          \t[None, 32, 500]     \tproduces   16000 outputs\n",
      "  Dense1            \t(None, 1024)        \tproduces    1024 outputs\n",
      "  output            \t(None, 6)           \tproduces       6 outputs\n",
      "  epoch    train loss    valid loss    train/val  dur\n",
      "-------  ------------  ------------  -----------  -----\n",
      "      1       \u001b[94m0.23326\u001b[0m       \u001b[32m0.20809\u001b[0m      1.12097  2.63s\n",
      "      2       \u001b[94m0.18650\u001b[0m       \u001b[32m0.16047\u001b[0m      1.16220  2.62s\n",
      "      3       \u001b[94m0.14490\u001b[0m       \u001b[32m0.12219\u001b[0m      1.18584  2.75s\n",
      "      4       \u001b[94m0.11193\u001b[0m       \u001b[32m0.09304\u001b[0m      1.20310  2.61s\n",
      "      5       \u001b[94m0.08628\u001b[0m       \u001b[32m0.07011\u001b[0m      1.23058  2.62s\n",
      "      6       \u001b[94m0.06883\u001b[0m       \u001b[32m0.05290\u001b[0m      1.30119  2.61s\n",
      "      7       \u001b[94m0.05707\u001b[0m       \u001b[32m0.04370\u001b[0m      1.30610  2.62s\n",
      "      8       \u001b[94m0.04847\u001b[0m       \u001b[32m0.03797\u001b[0m      1.27644  2.62s\n",
      "      9       \u001b[94m0.04206\u001b[0m       \u001b[32m0.03439\u001b[0m      1.22315  2.62s\n",
      "     10       \u001b[94m0.03920\u001b[0m       \u001b[32m0.02969\u001b[0m      1.32031  2.62s\n",
      "     11       \u001b[94m0.03666\u001b[0m       \u001b[32m0.02478\u001b[0m      1.47930  2.62s\n",
      "     12       \u001b[94m0.03501\u001b[0m       \u001b[32m0.02475\u001b[0m      1.41408  2.67s\n",
      "     13       \u001b[94m0.03474\u001b[0m       \u001b[32m0.02358\u001b[0m      1.47341  2.74s\n",
      "     14       \u001b[94m0.03305\u001b[0m       0.02404      1.37492  2.62s\n",
      "     15       \u001b[94m0.03076\u001b[0m       \u001b[32m0.02119\u001b[0m      1.45169  2.67s\n",
      "     16       0.03171       \u001b[32m0.02058\u001b[0m      1.54083  2.65s\n",
      "     17       \u001b[94m0.02848\u001b[0m       \u001b[32m0.02023\u001b[0m      1.40785  2.62s\n",
      "     18       0.03033       0.02203      1.37665  2.62s\n",
      "     19       0.02896       0.02122      1.36477  2.61s\n",
      "     20       0.02936       \u001b[32m0.01660\u001b[0m      1.76855  2.62s\n",
      "     21       0.02941       0.01711      1.71862  2.62s\n",
      "     22       0.02921       0.01754      1.66581  2.62s\n",
      "     23       0.02944       \u001b[32m0.01492\u001b[0m      1.97344  2.62s\n",
      "     24       \u001b[94m0.02815\u001b[0m       0.02104      1.33839  2.62s\n",
      "     25       \u001b[94m0.02687\u001b[0m       0.01788      1.50259  2.62s\n",
      "     26       0.02843       0.01659      1.71363  2.63s\n",
      "     27       0.02857       0.01787      1.59890  2.62s\n",
      "     28       \u001b[94m0.02650\u001b[0m       0.01817      1.45862  2.62s\n",
      "     29       0.02787       \u001b[32m0.01490\u001b[0m      1.87122  2.62s\n",
      "     30       0.02761       0.01694      1.63016  2.62s\n",
      "     31       0.02793       \u001b[32m0.01410\u001b[0m      1.98026  2.62s\n",
      "     32       0.02722       0.01762      1.54478  2.74s\n",
      "     33       \u001b[94m0.02636\u001b[0m       \u001b[32m0.01261\u001b[0m      2.09008  2.75s\n",
      "     34       0.02721       0.01674      1.62537  2.81s\n",
      "     35       0.02869       0.01595      1.79889  2.81s\n",
      "     36       0.02737       0.01894      1.44504  2.82s\n",
      "     37       0.02645       0.01786      1.48083  2.82s\n",
      "     38       0.02692       0.01591      1.69233  2.81s\n",
      "     39       0.02839       0.01308      2.17048  2.82s\n",
      "     40       0.02887       0.01450      1.99145  2.80s\n",
      "     41       0.02738       0.01563      1.75232  2.65s\n",
      "     42       0.02805       0.01794      1.56374  2.77s\n",
      "     43       0.02689       0.01614      1.66644  2.72s\n",
      "Score of net: 0.526437541309\n"
     ]
    },
    {
     "data": {
      "image/png": "[encoded data removed]",
      "text/plain": [
       "<matplotlib.figure.Figure at 0x7f6753e0ea10>"
      ]
     },
     "metadata": {},
     "output_type": "display_data"
    },
    {
     "name": "stdout",
     "output_type": "stream",
     "text": [
      "Reading subject 3 data\n"
     ]
    },
    {
     "ename": "KeyboardInterrupt",
     "evalue": "",
     "output_type": "error",
     "traceback": [
      "\u001b[1;31m---------------------------------------------------------------------------\u001b[0m",
      "\u001b[1;31mKeyboardInterrupt\u001b[0m                         Traceback (most recent call last)",
      "\u001b[1;32m<ipython-input-108-23a3b7818d3b>\u001b[0m in \u001b[0;36m<module>\u001b[1;34m()\u001b[0m\n\u001b[0;32m      1\u001b[0m \u001b[1;32mfor\u001b[0m \u001b[0mi\u001b[0m \u001b[1;32min\u001b[0m \u001b[0mSUBJECTS\u001b[0m\u001b[1;33m:\u001b[0m\u001b[1;33m\u001b[0m\u001b[0m\n\u001b[0;32m      2\u001b[0m     \u001b[0mnet_factory\u001b[0m \u001b[1;33m=\u001b[0m \u001b[0mcreate_net1\u001b[0m\u001b[1;33m\u001b[0m\u001b[0m\n\u001b[1;32m----> 3\u001b[1;33m     \u001b[0mtrain\u001b[0m\u001b[1;33m(\u001b[0m\u001b[0mnet_factory\u001b[0m\u001b[1;33m,\u001b[0m \u001b[0mi\u001b[0m\u001b[1;33m)\u001b[0m\u001b[1;33m\u001b[0m\u001b[0m\n\u001b[0m",
      "\u001b[1;32m<ipython-input-107-c993b11190f6>\u001b[0m in \u001b[0;36mtrain\u001b[1;34m(factory, subject, max_epochs)\u001b[0m\n\u001b[0;32m      2\u001b[0m     \"\"\"\n\u001b[0;32m      3\u001b[0m     \"\"\"\n\u001b[1;32m----> 4\u001b[1;33m     \u001b[0mraw_train\u001b[0m \u001b[1;33m=\u001b[0m \u001b[0mread_training_data\u001b[0m\u001b[1;33m(\u001b[0m\u001b[0msubject\u001b[0m\u001b[1;33m,\u001b[0m\u001b[1;33m[\u001b[0m\u001b[1;36m3\u001b[0m\u001b[1;33m,\u001b[0m\u001b[1;36m4\u001b[0m\u001b[1;33m,\u001b[0m\u001b[1;36m5\u001b[0m\u001b[1;33m,\u001b[0m\u001b[1;36m6\u001b[0m\u001b[1;33m,\u001b[0m\u001b[1;36m7\u001b[0m\u001b[1;33m,\u001b[0m\u001b[1;36m8\u001b[0m\u001b[1;33m]\u001b[0m\u001b[1;33m)\u001b[0m\u001b[1;33m\u001b[0m\u001b[0m\n\u001b[0m\u001b[0;32m      5\u001b[0m     \u001b[0mraw_valid\u001b[0m \u001b[1;33m=\u001b[0m \u001b[0mread_training_data\u001b[0m\u001b[1;33m(\u001b[0m\u001b[0msubject\u001b[0m\u001b[1;33m,\u001b[0m\u001b[1;33m[\u001b[0m\u001b[1;36m1\u001b[0m\u001b[1;33m,\u001b[0m\u001b[1;36m2\u001b[0m\u001b[1;33m]\u001b[0m\u001b[1;33m)\u001b[0m\u001b[1;33m\u001b[0m\u001b[0m\n\u001b[0;32m      6\u001b[0m     \u001b[1;31m#raw_test = read_test_data(subject)\u001b[0m\u001b[1;33m\u001b[0m\u001b[1;33m\u001b[0m\u001b[0m\n",
      "\u001b[1;32m<ipython-input-89-1b778b71597c>\u001b[0m in \u001b[0;36mread_training_data\u001b[1;34m(subject, series)\u001b[0m\n\u001b[0;32m      9\u001b[0m \u001b[1;33m\u001b[0m\u001b[0m\n\u001b[0;32m     10\u001b[0m     \u001b[1;31m# read and concatenate all the files\u001b[0m\u001b[1;33m\u001b[0m\u001b[1;33m\u001b[0m\u001b[0m\n\u001b[1;32m---> 11\u001b[1;33m     \u001b[0mraw\u001b[0m \u001b[1;33m=\u001b[0m \u001b[0mconcatenate_raws\u001b[0m\u001b[1;33m(\u001b[0m\u001b[1;33m[\u001b[0m\u001b[0mcreate_mne_raw_object\u001b[0m\u001b[1;33m(\u001b[0m\u001b[0mfname\u001b[0m\u001b[1;33m)\u001b[0m \u001b[1;32mfor\u001b[0m \u001b[0mfname\u001b[0m \u001b[1;32min\u001b[0m \u001b[0mfnames\u001b[0m\u001b[1;33m]\u001b[0m\u001b[1;33m)\u001b[0m\u001b[1;33m\u001b[0m\u001b[0m\n\u001b[0m\u001b[0;32m     12\u001b[0m     \u001b[1;31m# pick eeg signal\u001b[0m\u001b[1;33m\u001b[0m\u001b[1;33m\u001b[0m\u001b[0m\n\u001b[0;32m     13\u001b[0m     \u001b[0mpicks\u001b[0m \u001b[1;33m=\u001b[0m \u001b[0mpick_types\u001b[0m\u001b[1;33m(\u001b[0m\u001b[0mraw\u001b[0m\u001b[1;33m.\u001b[0m\u001b[0minfo\u001b[0m\u001b[1;33m,\u001b[0m\u001b[0meeg\u001b[0m\u001b[1;33m=\u001b[0m\u001b[0mTrue\u001b[0m\u001b[1;33m)\u001b[0m\u001b[1;33m\u001b[0m\u001b[0m\n",
      "\u001b[1;32m<ipython-input-87-61fb6bd0ffab>\u001b[0m in \u001b[0;36mcreate_mne_raw_object\u001b[1;34m(fname, read_events)\u001b[0m\n\u001b[0;32m      2\u001b[0m     \u001b[1;34m\"\"\"Create a mne raw instance from csv file\"\"\"\u001b[0m\u001b[1;33m\u001b[0m\u001b[0m\n\u001b[0;32m      3\u001b[0m     \u001b[1;31m# Read EEG file\u001b[0m\u001b[1;33m\u001b[0m\u001b[1;33m\u001b[0m\u001b[0m\n\u001b[1;32m----> 4\u001b[1;33m     \u001b[0mdata\u001b[0m \u001b[1;33m=\u001b[0m \u001b[0mpd\u001b[0m\u001b[1;33m.\u001b[0m\u001b[0mread_csv\u001b[0m\u001b[1;33m(\u001b[0m\u001b[0mfname\u001b[0m\u001b[1;33m)\u001b[0m\u001b[1;33m\u001b[0m\u001b[0m\n\u001b[0m\u001b[0;32m      5\u001b[0m \u001b[1;33m\u001b[0m\u001b[0m\n\u001b[0;32m      6\u001b[0m     \u001b[1;31m# get chanel names\u001b[0m\u001b[1;33m\u001b[0m\u001b[1;33m\u001b[0m\u001b[0m\n",
      "\u001b[1;32m/usr/local/lib/python2.7/dist-packages/pandas/io/parsers.pyc\u001b[0m in \u001b[0;36mparser_f\u001b[1;34m(filepath_or_buffer, sep, dialect, compression, doublequote, escapechar, quotechar, quoting, skipinitialspace, lineterminator, header, index_col, names, prefix, skiprows, skipfooter, skip_footer, na_values, na_fvalues, true_values, false_values, delimiter, converters, dtype, usecols, engine, delim_whitespace, as_recarray, na_filter, compact_ints, use_unsigned, low_memory, buffer_lines, warn_bad_lines, error_bad_lines, keep_default_na, thousands, comment, decimal, parse_dates, keep_date_col, dayfirst, date_parser, memory_map, float_precision, nrows, iterator, chunksize, verbose, encoding, squeeze, mangle_dupe_cols, tupleize_cols, infer_datetime_format, skip_blank_lines)\u001b[0m\n\u001b[0;32m    463\u001b[0m                     skip_blank_lines=skip_blank_lines)\n\u001b[0;32m    464\u001b[0m \u001b[1;33m\u001b[0m\u001b[0m\n\u001b[1;32m--> 465\u001b[1;33m         \u001b[1;32mreturn\u001b[0m \u001b[0m_read\u001b[0m\u001b[1;33m(\u001b[0m\u001b[0mfilepath_or_buffer\u001b[0m\u001b[1;33m,\u001b[0m \u001b[0mkwds\u001b[0m\u001b[1;33m)\u001b[0m\u001b[1;33m\u001b[0m\u001b[0m\n\u001b[0m\u001b[0;32m    466\u001b[0m \u001b[1;33m\u001b[0m\u001b[0m\n\u001b[0;32m    467\u001b[0m     \u001b[0mparser_f\u001b[0m\u001b[1;33m.\u001b[0m\u001b[0m__name__\u001b[0m \u001b[1;33m=\u001b[0m \u001b[0mname\u001b[0m\u001b[1;33m\u001b[0m\u001b[0m\n",
      "\u001b[1;32m/usr/local/lib/python2.7/dist-packages/pandas/io/parsers.pyc\u001b[0m in \u001b[0;36m_read\u001b[1;34m(filepath_or_buffer, kwds)\u001b[0m\n\u001b[0;32m    249\u001b[0m         \u001b[1;32mreturn\u001b[0m \u001b[0mparser\u001b[0m\u001b[1;33m\u001b[0m\u001b[0m\n\u001b[0;32m    250\u001b[0m \u001b[1;33m\u001b[0m\u001b[0m\n\u001b[1;32m--> 251\u001b[1;33m     \u001b[1;32mreturn\u001b[0m \u001b[0mparser\u001b[0m\u001b[1;33m.\u001b[0m\u001b[0mread\u001b[0m\u001b[1;33m(\u001b[0m\u001b[1;33m)\u001b[0m\u001b[1;33m\u001b[0m\u001b[0m\n\u001b[0m\u001b[0;32m    252\u001b[0m \u001b[1;33m\u001b[0m\u001b[0m\n\u001b[0;32m    253\u001b[0m _parser_defaults = {\n",
      "\u001b[1;32m/usr/local/lib/python2.7/dist-packages/pandas/io/parsers.pyc\u001b[0m in \u001b[0;36mread\u001b[1;34m(self, nrows)\u001b[0m\n\u001b[0;32m    708\u001b[0m                 \u001b[1;32mraise\u001b[0m \u001b[0mValueError\u001b[0m\u001b[1;33m(\u001b[0m\u001b[1;34m'skip_footer not supported for iteration'\u001b[0m\u001b[1;33m)\u001b[0m\u001b[1;33m\u001b[0m\u001b[0m\n\u001b[0;32m    709\u001b[0m \u001b[1;33m\u001b[0m\u001b[0m\n\u001b[1;32m--> 710\u001b[1;33m         \u001b[0mret\u001b[0m \u001b[1;33m=\u001b[0m \u001b[0mself\u001b[0m\u001b[1;33m.\u001b[0m\u001b[0m_engine\u001b[0m\u001b[1;33m.\u001b[0m\u001b[0mread\u001b[0m\u001b[1;33m(\u001b[0m\u001b[0mnrows\u001b[0m\u001b[1;33m)\u001b[0m\u001b[1;33m\u001b[0m\u001b[0m\n\u001b[0m\u001b[0;32m    711\u001b[0m \u001b[1;33m\u001b[0m\u001b[0m\n\u001b[0;32m    712\u001b[0m         \u001b[1;32mif\u001b[0m \u001b[0mself\u001b[0m\u001b[1;33m.\u001b[0m\u001b[0moptions\u001b[0m\u001b[1;33m.\u001b[0m\u001b[0mget\u001b[0m\u001b[1;33m(\u001b[0m\u001b[1;34m'as_recarray'\u001b[0m\u001b[1;33m)\u001b[0m\u001b[1;33m:\u001b[0m\u001b[1;33m\u001b[0m\u001b[0m\n",
      "\u001b[1;32m/usr/local/lib/python2.7/dist-packages/pandas/io/parsers.pyc\u001b[0m in \u001b[0;36mread\u001b[1;34m(self, nrows)\u001b[0m\n\u001b[0;32m   1157\u001b[0m \u001b[1;33m\u001b[0m\u001b[0m\n\u001b[0;32m   1158\u001b[0m         \u001b[1;32mtry\u001b[0m\u001b[1;33m:\u001b[0m\u001b[1;33m\u001b[0m\u001b[0m\n\u001b[1;32m-> 1159\u001b[1;33m             \u001b[0mdata\u001b[0m \u001b[1;33m=\u001b[0m \u001b[0mself\u001b[0m\u001b[1;33m.\u001b[0m\u001b[0m_reader\u001b[0m\u001b[1;33m.\u001b[0m\u001b[0mread\u001b[0m\u001b[1;33m(\u001b[0m\u001b[0mnrows\u001b[0m\u001b[1;33m)\u001b[0m\u001b[1;33m\u001b[0m\u001b[0m\n\u001b[0m\u001b[0;32m   1160\u001b[0m         \u001b[1;32mexcept\u001b[0m \u001b[0mStopIteration\u001b[0m\u001b[1;33m:\u001b[0m\u001b[1;33m\u001b[0m\u001b[0m\n\u001b[0;32m   1161\u001b[0m             \u001b[1;32mif\u001b[0m \u001b[0mnrows\u001b[0m \u001b[1;32mis\u001b[0m \u001b[0mNone\u001b[0m\u001b[1;33m:\u001b[0m\u001b[1;33m\u001b[0m\u001b[0m\n",
      "\u001b[1;31mKeyboardInterrupt\u001b[0m: "
     ]
    }
   ],
   "source": [
    "for i in SUBJECTS: \n",
    "    net_factory = create_net1\n",
    "    train(net_factory, i)"
   ]
  },
  {
   "cell_type": "code",
   "execution_count": null,
   "metadata": {
    "collapsed": true
   },
   "outputs": [],
   "source": []
  }
 ],
 "metadata": {
  "kernelspec": {
   "display_name": "Python 2",
   "language": "python",
   "name": "python2"
  },
  "language_info": {
   "codemirror_mode": {
    "name": "ipython",
    "version": 2
   },
   "file_extension": ".py",
   "mimetype": "text/x-python",
   "name": "python",
   "nbconvert_exporter": "python",
   "pygments_lexer": "ipython2",
   "version": "2.7.6"
  }
 },
 "nbformat": 4,
 "nbformat_minor": 0
}
